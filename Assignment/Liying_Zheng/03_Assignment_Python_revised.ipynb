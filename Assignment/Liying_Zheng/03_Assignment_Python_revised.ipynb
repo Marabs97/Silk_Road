{
  "cells": [
    {
      "cell_type": "markdown",
      "source": [
        "# Assignment 03\n",
        "#### Python Basics III - Functions and Classes\n",
        "\n",
        "This tutorial was written by Terry L. Ruas (University of Göttingen). The references for external contributors for which this material was anyhow adapted/inspired are in the Acknowledgments section (end of the document)."
      ],
      "metadata": {
        "collapsed": false,
        "id": "3i7Q6MM_7a82"
      }
    },
    {
      "cell_type": "markdown",
      "source": [
        "This notebook will cover the following tasks:\n",
        "\n",
        "1. Dictionary\n",
        "2. Classes"
      ],
      "metadata": {
        "collapsed": false,
        "id": "eKtTDCOS7a83"
      }
    },
    {
      "cell_type": "markdown",
      "source": [
        "## Task 01 – Dictionary\n",
        "Imagine you have to write a (very simple) bookkeepingsystem for a bank that keeps track of the account balances of each of its customers.\n",
        "1. Write a function that spans a dictionary holding a default balance of 0 for an initial list of customers. For simplicity, assume customer names are unique identifier.  (optional) Can you express that same functionality using a lambda function?\n",
        "2. What are elegant ways to add or remove single and multiple customers using the functionality of dict?\n",
        "3. Now write two simple functions that allow you to deposit and withdraw money for a given bank customer.\n",
        "4. Include error messages for inputs that are not permissible, e.g., withdrawing negative amounts or overdrawing the account, etc."
      ],
      "metadata": {
        "collapsed": false,
        "id": "XumFInmh7a85"
      }
    },
    {
      "cell_type": "code",
      "execution_count": 1,
      "outputs": [],
      "source": [
        "def default_balance(customer_list):\n",
        "    default_dict= {name:0 for name in customer_list}\n",
        "    return default_dict\n",
        "\n",
        "# lambda version \n",
        "set_default_balance = lambda list : {name :0 for name in list}    "
      ],
      "metadata": {
        "id": "aEr0j2IX7a85"
      }
    },
    {
      "cell_type": "code",
      "source": [
        "customer =(\"Alice\", \"Bod\", \"Charlie\", \"Brown\")\n",
        "\n",
        "print(default_balance(customer))\n",
        "customer_dict = set_default_balance(customer)\n",
        "print(customer_dict)"
      ],
      "metadata": {
        "colab": {
          "base_uri": "https://localhost:8080/"
        },
        "id": "VsYNrTPM0KSP",
        "outputId": "548413a4-d363-4689-83b1-4a4794c8d6b7"
      },
      "execution_count": 2,
      "outputs": [
        {
          "output_type": "stream",
          "name": "stdout",
          "text": [
            "{'Alice': 0, 'Bod': 0, 'Charlie': 0, 'Brown': 0}\n",
            "{'Alice': 0, 'Bod': 0, 'Charlie': 0, 'Brown': 0}\n"
          ]
        }
      ]
    },
    {
      "cell_type": "markdown",
      "source": [
        "2.\n",
        " \n",
        "we can use del(), pop() to delete a single item from a dictionary \n",
        "\n",
        "del dict[key]-> the element of the key by choice will be deleted\n",
        "\n",
        "dict1.pop(key)\n",
        "\n",
        "To delete multiple items:\n",
        "\n",
        "clear() -> dict.clear() will delete all the elements in the dictionary \n",
        "\n",
        "del dict1 -> will remove the exitence of the dictionary "
      ],
      "metadata": {
        "id": "m5DsXiSz1C9J"
      }
    },
    {
      "cell_type": "code",
      "source": [
        "def deposit(name,money):\n",
        "    if name in customer_dict.keys():\n",
        "        customer_dict[name] += money\n",
        "    else: \n",
        "        print(\"Customer Not Found\")\n",
        "      "
      ],
      "metadata": {
        "id": "5O_rwyYt0jqa"
      },
      "execution_count": 3,
      "outputs": []
    },
    {
      "cell_type": "code",
      "source": [
        "deposit(\"Alice\", 500)\n",
        "print(customer_dict)"
      ],
      "metadata": {
        "colab": {
          "base_uri": "https://localhost:8080/"
        },
        "id": "DhYio0uz5PKn",
        "outputId": "1a4d4405-a44b-4c70-ea93-506f4e424f7e"
      },
      "execution_count": 4,
      "outputs": [
        {
          "output_type": "stream",
          "name": "stdout",
          "text": [
            "{'Alice': 500, 'Bod': 0, 'Charlie': 0, 'Brown': 0}\n"
          ]
        }
      ]
    },
    {
      "cell_type": "code",
      "source": [
        "def withdrawl(name, money):\n",
        "    if money <= 0:\n",
        "       print(\"Error: Negative amounts\")\n",
        "    elif money > customer_dict.get(name):\n",
        "       print(\"Saving's not enough.\")\n",
        "    else:\n",
        "       customer_dict[name] -= money"
      ],
      "metadata": {
        "id": "wkaGkXmQ7ha4"
      },
      "execution_count": 5,
      "outputs": []
    },
    {
      "cell_type": "code",
      "source": [
        "withdrawl (\"Alice\", 250)\n",
        "print(customer_dict)"
      ],
      "metadata": {
        "colab": {
          "base_uri": "https://localhost:8080/"
        },
        "id": "z5fOQ4gY-V4p",
        "outputId": "2c152001-0bf4-42a8-d266-09755278b745"
      },
      "execution_count": 6,
      "outputs": [
        {
          "output_type": "stream",
          "name": "stdout",
          "text": [
            "{'Alice': 250, 'Bod': 0, 'Charlie': 0, 'Brown': 0}\n"
          ]
        }
      ]
    },
    {
      "cell_type": "markdown",
      "source": [
        "## Task 02 – Classes\n",
        "The manager thinks that the simple bookkeeping system you have built is not powerful enough. She requests that you start from scratch and use classes instead.\n",
        "1. Write a simple class with appropriate constructor *\\_\\_init\\_\\_* that initializes an object of class *Customer* tracking the same information as in Task 01.\n",
        "2. Now write two simple methods for class *Customer* that allow you to deposit and withdraw money for a given customer object.\n",
        "3. Include error messages for inputs that are not permissible, e.g., withdrawing negative amounts or overdrawing the account.\n",
        "4. (Inheritance) Write a child class *SavingsCustomer* that inherits its features from the parent class *Customer*. A savings customer has an extra savings balance for receiving extra interest. The class should have a method to transfer money back and forth between the accounts' main balance as well as the savings balance. Do not forget to add reasonable error messages."
      ],
      "metadata": {
        "collapsed": false,
        "id": "9tMOI3tn7a86"
      }
    },
    {
      "cell_type": "code",
      "source": [
        "class Customer:\n",
        "\n",
        "    def __init__ (self, account_balance):\n",
        "        self.account_balance = account_balance\n",
        "\n",
        "\n",
        "    def save(self,money):\n",
        "        if money >= 0:\n",
        "            self.account_balance += money\n",
        "            print(\"The account balance of this customer is: \", self.account_balance)\n",
        "        else:\n",
        "            print(\"Negative deposit is not allowed.\")\n",
        "    \n",
        "    def take(self,money):\n",
        "        if money < 0:\n",
        "            print(\"Error: Negative Amount.\")\n",
        "        elif money > self.account_balance:\n",
        "            print(\"Not enough savings.\")\n",
        "        else:\n",
        "           self.account_balance -= money \n",
        "        "
      ],
      "metadata": {
        "id": "__WixI0Y4XJX"
      },
      "execution_count": 7,
      "outputs": []
    },
    {
      "cell_type": "code",
      "source": [
        "Jim= Customer(50)\n",
        "print(Jim.save(2000))"
      ],
      "metadata": {
        "colab": {
          "base_uri": "https://localhost:8080/"
        },
        "id": "YBzPAietFgl8",
        "outputId": "a75dfe7d-17da-43ce-f068-f8498c31a841"
      },
      "execution_count": 8,
      "outputs": [
        {
          "output_type": "stream",
          "name": "stdout",
          "text": [
            "The account balance of this customer is:  2050\n",
            "None\n"
          ]
        }
      ]
    },
    {
      "cell_type": "code",
      "source": [
        "class SavingCustomer(Customer):\n",
        "\n",
        "    def __init__(self, account_balance, saving_balance):\n",
        "        super().__init__(account_balance)\n",
        "        self.saving_balance = saving_balance\n",
        "    \n",
        "    def transferTo(self, amount, account):\n",
        "        if amount <= 0:\n",
        "            print (\"Error: Only positive amount is transferable.\")\n",
        "        else: \n",
        "            # transfer money to main account\n",
        "            if account == \"account_balance\":\n",
        "                self.account_balance += amount\n",
        "                self.saving_balance -= amount\n",
        "                print('The balance of saving account is:' , self.saving_balance)\n",
        "                print(\"The balance of main account is: \",self.account_balance)\n",
        "            # tranfer to saving account \n",
        "            if account == \"saving_balance\":\n",
        "                self.saving_balance += amount\n",
        "                self.account_balance -= amount\n",
        "                print(\"The balance of saving account is: \", self.saving_balance)\n",
        "                print(\"The balance of main account is: \", self.account_balance)\n"
      ],
      "metadata": {
        "id": "LCVN1d7hD5AZ"
      },
      "execution_count": 15,
      "outputs": []
    },
    {
      "cell_type": "code",
      "source": [
        "Jim = SavingCustomer(800,6)\n",
        "\n",
        "Jim.transferTo(40, \"saving_balance\")\n",
        "\n"
      ],
      "metadata": {
        "colab": {
          "base_uri": "https://localhost:8080/"
        },
        "id": "AWK7ni2GmFCh",
        "outputId": "f67b2947-ab46-42bd-e799-efb7732abf99"
      },
      "execution_count": 16,
      "outputs": [
        {
          "output_type": "stream",
          "name": "stdout",
          "text": [
            "The balance of saving account is:  46\n",
            "The balance of main account is:  760\n"
          ]
        }
      ]
    }
  ],
  "metadata": {
    "kernelspec": {
      "display_name": "Python 3",
      "language": "python",
      "name": "python3"
    },
    "language_info": {
      "codemirror_mode": {
        "name": "ipython",
        "version": 2
      },
      "file_extension": ".py",
      "mimetype": "text/x-python",
      "name": "python",
      "nbconvert_exporter": "python",
      "pygments_lexer": "ipython2",
      "version": "2.7.6"
    },
    "colab": {
      "provenance": []
    }
  },
  "nbformat": 4,
  "nbformat_minor": 0
}