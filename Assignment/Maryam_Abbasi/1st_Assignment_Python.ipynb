{
  "cells": [
    {
      "cell_type": "markdown",
      "metadata": {
        "id": "view-in-github",
        "colab_type": "text"
      },
      "source": [
        "<a href=\"https://colab.research.google.com/github/Marabs97/Silk_Road/blob/main/Assignment/Maryam_Abbasi/1st_Assignment_Python.ipynb\" target=\"_parent\"><img src=\"https://colab.research.google.com/assets/colab-badge.svg\" alt=\"Open In Colab\"/></a>"
      ]
    },
    {
      "cell_type": "markdown",
      "source": [
        "# Assignment 01\n",
        "##### Python Basics I\n",
        "\n",
        "This tutorial was written by Terry Ruas (University of Göttingen). The references for external contributors for which this material was anyhow adapted/inspired are in the Acknowledgments section (end of the document).\n"
      ],
      "metadata": {
        "collapsed": false,
        "id": "LZgQdr4W6iKz"
      }
    },
    {
      "cell_type": "markdown",
      "source": [
        "## Task 01 – Hello World!\n",
        "Write a simple program that asks the user to input a name and outputs a simple greeting, such as ‘Hi Name! Nice to meet you!’ and in the other line, ‘Welcome to the Programing Course!’. \n",
        "\n",
        "*Hint: Check out the input () and print() function in Python.* "
      ],
      "metadata": {
        "collapsed": false,
        "id": "4GPUv_8U6iK1"
      }
    },
    {
      "cell_type": "code",
      "execution_count": null,
      "outputs": [
        {
          "output_type": "stream",
          "name": "stdout",
          "text": [
            "Enter Your Name:maryam\n",
            "Hi maryam!\n",
            "Welcome to the Programing Course!\n"
          ]
        }
      ],
      "source": [
        "print(\"Hi \" + input(\"Enter Your Name: \") +\"!\\nWelcome to the Programing Course!\")"
      ],
      "metadata": {
        "id": "xt3XV0YD6iK2",
        "colab": {
          "base_uri": "https://localhost:8080/"
        },
        "outputId": "05407ee9-4d0c-47d5-a340-472a23f33985"
      }
    },
    {
      "cell_type": "markdown",
      "source": [
        "## Task 02 – Reversed Words\n",
        "Write a program that reads in a word provided by the user and prints the word in a reversed order. For example, if the input is hello, the output should be ‘olleh’. \n",
        "\n",
        "- Use a loop structure \n",
        "- Use just array indexes \n"
      ],
      "metadata": {
        "collapsed": false,
        "id": "_Jz4T4AQ6iK3"
      }
    },
    {
      "cell_type": "code",
      "execution_count": null,
      "outputs": [],
      "source": [
        "#Task 02- Reversed word\n",
        "wrd = input(\"Enter a Word:\")\n",
        "rev = \"\"\n",
        "for i in range(len(wrd)):\n",
        "   rev = wrd[i] + rev\n",
        "print(rev)"
      ],
      "metadata": {
        "id": "aKLGcZ0_6iK3"
      }
    },
    {
      "cell_type": "markdown",
      "source": [
        "## Task 03 –  Fibonacci Numbers\n",
        "Write a program that reads in an upper bound (number) provided by the user and prints the sequence of Fibonacci numbers that are less or equal to the number given by the user. Use a while-loop for this task. \n",
        "\n",
        "The Fibonacci sequence is defined as \n",
        "$ F_{n}=F_{n−1}+F_{n−2}$. Use $F_{0}=0$ and $F_{1} = 1$ as seed values.  \n",
        "\n",
        "For example, if the user inputs 6, the output should be 0, 1, 1, 2, 3, 5. \n",
        "\n",
        "\n",
        "\n"
      ],
      "metadata": {
        "collapsed": false,
        "id": "PalhJ9x36iK4"
      }
    },
    {
      "cell_type": "code",
      "execution_count": null,
      "outputs": [
        {
          "output_type": "stream",
          "name": "stdout",
          "text": [
            "till:3\n",
            "[0, 1, 1, 2, 3]\n"
          ]
        }
      ],
      "source": [
        "fib = int(input( \"Sequence Element(s)\"))\n",
        "seq = 0\n",
        "lst = [0,1]\n",
        "if fib <= 2:\n",
        "  if fib == 1:\n",
        "    print(lst[0])\n",
        "  else:\n",
        "    print(lst)\n",
        "else:\n",
        "  for i in range(fib):\n",
        "    seq = lst[i] + lst[i+1]\n",
        "    lst.append(seq)\n",
        "  print(lst)"
      ],
      "metadata": {
        "id": "vm5UlcKB6iK4",
        "colab": {
          "base_uri": "https://localhost:8080/"
        },
        "outputId": "8046a8c8-3e4b-4a09-f93d-e4e2f754f7c3"
      }
    },
    {
      "cell_type": "markdown",
      "source": [
        "## Task 04 – Selective Printing \n",
        "\n",
        "Write a program that reads in an upper bound (number) provided by the user and prints all integer numbers that are less or equal to the upper bound except the integer numbers that are divisible by 3. Use the continue statement. For example, if the user enters 6 as the upper bound, the output should be 0, 1, 2, 4, 5.  "
      ],
      "metadata": {
        "collapsed": false,
        "id": "JV1Mm9qA6iK5"
      }
    },
    {
      "cell_type": "code",
      "execution_count": null,
      "outputs": [
        {
          "output_type": "stream",
          "name": "stdout",
          "text": [
            "Enter an number:55\n",
            "1\n",
            "2\n",
            "4\n",
            "5\n",
            "7\n",
            "8\n",
            "10\n",
            "11\n",
            "13\n",
            "14\n",
            "16\n",
            "17\n",
            "19\n",
            "20\n",
            "22\n",
            "23\n",
            "25\n",
            "26\n",
            "28\n",
            "29\n",
            "31\n",
            "32\n",
            "34\n",
            "35\n",
            "37\n",
            "38\n",
            "40\n",
            "41\n",
            "43\n",
            "44\n",
            "46\n",
            "47\n",
            "49\n",
            "50\n",
            "52\n",
            "53\n",
            "55\n"
          ]
        }
      ],
      "source": [
        "ser = int(input(\"Enter a number:\"))\n",
        "for i in range(ser +1):\n",
        "  if i % 3 == 0:\n",
        "    i +=1\n",
        "  else:\n",
        "    print(i)"
      ],
      "metadata": {
        "id": "C3i7ctus6iK6",
        "colab": {
          "base_uri": "https://localhost:8080/"
        },
        "outputId": "c1386b80-8156-46d9-b7f6-e9214946f614"
      }
    },
    {
      "cell_type": "markdown",
      "source": [
        "## Task 05 – Triangle Checking   \n",
        "\n",
        "Write a Python program that asks the user to input the lengths of the sides in a triangle and outputs whether the triangle is equilateral, isosceles, or scalene. The program should also check for the Triangle inequality $(z < x + y)$,  and prompt the user for a valid input. \n",
        "\n",
        "- An equilateral triangle is a triangle in which all three sides are of equal length. \n",
        "- An isosceles triangle is a triangle with (at least) two sides of equal length. \n",
        "- A scalene triangle is a triangle in which all three sides have different lengths. \n",
        "\n",
        "For example, if the user inputs a=3, b=4, c=5, the triangle is scalene. \n"
      ],
      "metadata": {
        "collapsed": false,
        "id": "qz4P36Lz6iK6"
      }
    },
    {
      "cell_type": "code",
      "execution_count": null,
      "outputs": [
        {
          "output_type": "stream",
          "name": "stdout",
          "text": [
            "isosceles triangle\n"
          ]
        }
      ],
      "source": [
        "x = 12.4  #input(\"x: \")\n",
        "y = 20    #input(\"y: \")\n",
        "z = 12.4  #input(\"z: \")\n",
        "if (x + y > z and y + z > x and x + z > y):\n",
        "  if x == y == z:\n",
        "\t  print(\"Equilateral Triangle\")\n",
        "  elif x==y or y==z or z==x:\n",
        "\t  print(\"Isosceles Triangle\")\n",
        "  else:\n",
        "\t  print(\"Scalene Triangle\")\n",
        "else: \n",
        "  print(\"Bro, it's not a Triangle!\")"
      ],
      "metadata": {
        "id": "2c67p_Zc6iK7",
        "colab": {
          "base_uri": "https://localhost:8080/"
        },
        "outputId": "2e50b05c-f7c2-4fa1-8a4b-80ac591c0cf6"
      }
    },
    {
      "cell_type": "markdown",
      "source": [
        "## Task 06 – Decimal to Octal Conversion \n",
        "\n",
        "Write a program that reads a non-negative integer number in the decimal representation provided by the user and prints the octal representation of the number. For example, if the user enters 167, the output should be 247.  \n",
        "\n",
        "Write a more general program that reads in a non-negative number (potentially including decimal places) in the decimal representation provided by the user and prints the octal representation of the number. For example, if the user enters 25.11, the output should be 31.0702436560507534. "
      ],
      "metadata": {
        "collapsed": false,
        "id": "k1kh3odh6iK7"
      }
    },
    {
      "cell_type": "code",
      "execution_count": null,
      "outputs": [
        {
          "output_type": "stream",
          "name": "stdout",
          "text": [
            "144\n"
          ]
        }
      ],
      "source": [
        "def oct(dec):\n",
        "  count = \"\"\n",
        "  div = 0\n",
        "  if dec >= 0:\n",
        "    while dec != 0:\n",
        "      div = dec // 8 \n",
        "      dec = dec % 8\n",
        "      count = str(dec) + count \n",
        "      dec = div + 0 \n",
        "      if div == 0:\n",
        "        print(count) \n",
        "oct(100)"
      ],
      "metadata": {
        "id": "2-UCbTRQ6iK7",
        "colab": {
          "base_uri": "https://localhost:8080/"
        },
        "outputId": "eb2b641f-9cee-4051-ed73-3584535212de"
      }
    },
    {
      "cell_type": "code",
      "source": [
        "##with decimal points\n",
        "def flt_oct(dec, points):\n",
        "  remain = \"\"\n",
        "  div = 0\n",
        "  count = 0\n",
        "  dec = dec * (8 ** points)\n",
        "  while dec != 0:\n",
        "    div = dec // 8 \n",
        "    count = dec % 8\n",
        "    remain = str(count)[0] + remain \n",
        "    dec = div + 0 \n",
        "    if div == 0:\n",
        "      remain = int(remain) /10** points\n",
        "      print(remain)\n",
        "\n",
        "flt_oct(0.88866485,8)"
      ],
      "metadata": {
        "colab": {
          "base_uri": "https://localhost:8080/"
        },
        "id": "en24xCs0fyJN",
        "outputId": "ebc34f09-54e0-4395-dda1-e729aee07092"
      },
      "execution_count": null,
      "outputs": [
        {
          "output_type": "stream",
          "name": "stdout",
          "text": [
            "0.70677612\n"
          ]
        }
      ]
    },
    {
      "cell_type": "markdown",
      "source": [
        "## Acknowledgements\n",
        "\n",
        "Redmond, Hsu, Saini, Gupta, Ramsey, Kondrich, Capoor, Cohen, Borus, Kincaid, Malik, and many others. - Stanford CS41"
      ],
      "metadata": {
        "collapsed": false,
        "id": "Wl9JCEYM6iK-"
      }
    },
    {
      "cell_type": "code",
      "execution_count": null,
      "outputs": [],
      "source": [],
      "metadata": {
        "id": "Bx-WQj4v6iK-"
      }
    }
  ],
  "metadata": {
    "kernelspec": {
      "display_name": "Python 3",
      "language": "python",
      "name": "python3"
    },
    "language_info": {
      "codemirror_mode": {
        "name": "ipython",
        "version": 2
      },
      "file_extension": ".py",
      "mimetype": "text/x-python",
      "name": "python",
      "nbconvert_exporter": "python",
      "pygments_lexer": "ipython2",
      "version": "2.7.6"
    },
    "colab": {
      "provenance": [],
      "include_colab_link": true
    }
  },
  "nbformat": 4,
  "nbformat_minor": 0
}