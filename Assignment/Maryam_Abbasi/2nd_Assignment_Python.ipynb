{
  "cells": [
    {
      "cell_type": "markdown",
      "metadata": {
        "id": "view-in-github",
        "colab_type": "text"
      },
      "source": [
        "<a href=\"https://colab.research.google.com/github/Marabs97/Silk_Road/blob/main/Assignment/Maryam_Abbasi/2nd_Assignment_Python.ipynb\" target=\"_parent\"><img src=\"https://colab.research.google.com/assets/colab-badge.svg\" alt=\"Open In Colab\"/></a>"
      ]
    },
    {
      "cell_type": "markdown",
      "source": [
        "# Assignment 02\n",
        "##### Python Basics II\n",
        "\n",
        "This tutorial was written by Terry Ruas (University of Göttingen); The references for external contributors for which this material was anyhow adapted/inspired are in the Acknowledgments section (end of the document).\n"
      ],
      "metadata": {
        "collapsed": false,
        "id": "LZgQdr4W6iKz"
      }
    },
    {
      "cell_type": "markdown",
      "source": [
        "This notebook will cover the following tasks:\n",
        "\n",
        "1. String Length\n",
        "2. Largest List Element\n",
        "3. Character Frequency\n",
        "4. Sorted List of Tuples\n",
        "5. Check Brackets\n",
        "6. Check Brackets II\n",
        "7. Queue\n",
        "8. Unlimited Power\n",
        "9. Unlimited Power II"
      ],
      "metadata": {
        "collapsed": false,
        "id": "Yvektzz_6iK1"
      }
    },
    {
      "cell_type": "markdown",
      "source": [
        "## Task 01 – String Length\n",
        "Write a program that reads in a string and prints the length of the input string. Do not use any built-in functions of Python, such as len().\n",
        "For example, if the input is “Computer Science”, the output should be length: 16."
      ],
      "metadata": {
        "collapsed": false,
        "id": "4GPUv_8U6iK1"
      }
    },
    {
      "cell_type": "code",
      "execution_count": null,
      "outputs": [
        {
          "output_type": "stream",
          "name": "stdout",
          "text": [
            "String: 1 2 3 4 5 6\n",
            "11\n"
          ]
        }
      ],
      "source": [
        "str = input(\"String: \")\n",
        "count = 0\n",
        "for char in str:\n",
        "  count +=1 \n",
        "print(count)"
      ],
      "metadata": {
        "id": "xt3XV0YD6iK2",
        "colab": {
          "base_uri": "https://localhost:8080/"
        },
        "outputId": "3d6d2d9e-5486-4b98-a862-c0da8e62369c"
      }
    },
    {
      "cell_type": "markdown",
      "source": [
        "## Task 02 – Largest List Element\n",
        "Write a program that generates a list of 10 random integers between 1 and 100 and then finds and prints the largest element in the list. Do not use the built-in function max().\n",
        "For example, if the input is [23,3,42,29,12,15,8,4,37,34], the output should be the largest element: 42.\n",
        "\n",
        "Hint: Check out the module [random](https://docs.python.org/3.7/library/random.html)."
      ],
      "metadata": {
        "collapsed": false,
        "id": "_Jz4T4AQ6iK3"
      }
    },
    {
      "cell_type": "code",
      "execution_count": null,
      "outputs": [
        {
          "output_type": "stream",
          "name": "stdout",
          "text": [
            "97 [68, 77, 12, 63, 97, 16, 62, 78, 20, 17]\n"
          ]
        }
      ],
      "source": [
        "import random\n",
        "rnd = random.sample(range(1,100),10)\n",
        "max = 0\n",
        "for num in rnd:\n",
        "  if num >= max:\n",
        "    max = num\n",
        "print(max,rnd)\n"
      ],
      "metadata": {
        "id": "aKLGcZ0_6iK3",
        "colab": {
          "base_uri": "https://localhost:8080/"
        },
        "outputId": "d871a843-a355-405f-dbfb-219b68ee4444"
      }
    },
    {
      "cell_type": "markdown",
      "source": [
        "## Task 03 – Character Frequency\n",
        "Write a program that:\n",
        "* Reads in a string and removes any spaces from the string\n",
        "* Counts how often individual characters occur in the string\n",
        "* Stores the information on character occurrence frequency in a dictionary\n",
        "* Prints the dictionary.\n",
        "\n",
        "For example, if the input is “santa claus”, the output should be:\n",
        "{'s': 2, 'a': 3, 'n': 1, 't': 1, 'c': 1, 'l': 1, 'u': 1}."
      ],
      "metadata": {
        "collapsed": false,
        "id": "PalhJ9x36iK4"
      }
    },
    {
      "cell_type": "code",
      "execution_count": null,
      "outputs": [
        {
          "output_type": "stream",
          "name": "stdout",
          "text": [
            "String:                           am\n",
            "{'a': 1, 'm': 1}\n"
          ]
        }
      ],
      "source": [
        "str = input(\"String: \")\n",
        "str = str.replace(\" \", \"\")\n",
        "freq = {}\n",
        "for char in str:\n",
        "    if char in freq:\n",
        "      freq[char] += 1\n",
        "    else:\n",
        "      freq[char] = 1\n",
        "print(freq) "
      ],
      "metadata": {
        "id": "vm5UlcKB6iK4",
        "colab": {
          "base_uri": "https://localhost:8080/"
        },
        "outputId": "38f61521-849f-408a-cacc-0a3bc1ba5c2c"
      }
    },
    {
      "cell_type": "markdown",
      "source": [
        "## Task 04 – Sorted List of Tuples\n",
        "Write a program that:\n",
        "* Generates a list of 10 tuples, each tuple consisting of 3 random integers between 1 and 100\n",
        "* Sorts the list of tuples in increasing order of the third element in each tuple\n",
        "* Prints the sorted list of tuples\n",
        "\n",
        "For example, if the generated input list is: [(56, 77, 69), (43, 30, 38), (2, 77, 101), (93, 57, 4), (74, 21, 77), (39, 68, 68), (65, 53, 96), (16, 29, 88), (88, 70, 38)]\n",
        "The output should be: [(93, 57, 4), (43, 30, 38), (88, 70, 38), (39, 68, 68), (56, 77, 69), (74, 21, 77), (16, 29, 88), (65, 53, 96), (2, 77, 101)]\n",
        "\n",
        "Hint: You are allowed and encouraged to use built-in functions, such as [sorted()](https://docs.python.org/3.7/library/functions.html?highlight=sorted#sorted), for this task."
      ],
      "metadata": {
        "collapsed": false,
        "id": "JV1Mm9qA6iK5"
      }
    },
    {
      "cell_type": "code",
      "execution_count": null,
      "outputs": [
        {
          "output_type": "stream",
          "name": "stdout",
          "text": [
            "Generated list:\n",
            "[(15, 34, 55), (66, 71, 93), (89, 6, 93), (26, 64, 30), (19, 95, 48), (100, 59, 12), (22, 12, 19), (12, 13, 61), (20, 78, 60), (67, 100, 88)]\n",
            "Output list:\n",
            "[(100, 59, 12), (22, 12, 19), (26, 64, 30), (19, 95, 48), (15, 34, 55), (20, 78, 60), (12, 13, 61), (67, 100, 88), (66, 71, 93), (89, 6, 93)]\n"
          ]
        }
      ],
      "source": [
        "import random\n",
        "n_tup = 10\n",
        "tuples_list = []\n",
        "for i in range(n_tup):\n",
        "    new_tuple = []\n",
        "    for j in range(3):\n",
        "        new_tuple.append(random.randint(1,100))\n",
        "    new_tuple = tuple(new_tuple)\n",
        "    tuples_list.append(new_tuple)\n",
        "print('Generated list:',tuples_list, sep = '\\n')\n",
        "sorted_tuples_list = sorted(\n",
        "    tuples_list, \n",
        "    key=lambda x: x[2]\n",
        ")\n",
        "print('Output list:',sorted_tuples_list, sep= '\\n')\n"
      ],
      "metadata": {
        "id": "C3i7ctus6iK6",
        "colab": {
          "base_uri": "https://localhost:8080/"
        },
        "outputId": "54655980-feaa-4528-83ef-04cbf4032af2"
      }
    },
    {
      "cell_type": "markdown",
      "source": [
        "## Task 05 – Check Brackets\n",
        "Write a program that reads in a string, which is supposed to be a mathematical expression. Focus on brackets only and check whether left and right brackets are composed correctly. Ignore all other characters (i.e. you don’t have to check correctness of operators and operands).\n",
        "Examples of correct input:\n",
        "* 3*(2+5)\n",
        "* ((()())())\n",
        "* (3+)(((4)))\n",
        "* Empty string\n",
        "\n",
        "Examples of incorrect input:\n",
        "* (3*(2+5)\n",
        "* ((()())(())\n",
        "* (3+)((4)))\n",
        "* ())(()\n"
      ],
      "metadata": {
        "collapsed": false,
        "id": "qz4P36Lz6iK6"
      }
    },
    {
      "cell_type": "code",
      "execution_count": 74,
      "outputs": [
        {
          "output_type": "stream",
          "name": "stdout",
          "text": [
            "False\n"
          ]
        }
      ],
      "source": [
        "expr = \"))((\"\n",
        "\n",
        "letters = set(list(expr))\n",
        "for i in letters:\n",
        "    if i != '(' and i != ')':\n",
        "        expr = expr.replace(i,'')\n",
        "\n",
        "reduced_expr = expr[:]\n",
        "while True:\n",
        "    reduced_expr = expr.replace('()','')\n",
        "    if len(reduced_expr) == len(expr):\n",
        "        break\n",
        "    else:\n",
        "        expr = reduced_expr[:]\n",
        "        \n",
        "if len(reduced_expr) == 0:\n",
        "    print(True)\n",
        "else:\n",
        "    print(False)"
      ],
      "metadata": {
        "id": "2c67p_Zc6iK7",
        "colab": {
          "base_uri": "https://localhost:8080/"
        },
        "outputId": "6add5294-7b24-4f6b-b96f-969c1b47dd20"
      }
    },
    {
      "cell_type": "markdown",
      "source": [
        "## Task 06 – Check Brackets II\n",
        "Extend previous program, so it can handle also square and curly brackets. Note that expressions in brackets cannot overlap. So, expression ```{[()()]([[]])}{}``` is correct, but expression ```([)]``` is not."
      ],
      "metadata": {
        "collapsed": false,
        "id": "k1kh3odh6iK7"
      }
    },
    {
      "cell_type": "code",
      "execution_count": 77,
      "outputs": [
        {
          "output_type": "stream",
          "name": "stdout",
          "text": [
            "True\n"
          ]
        }
      ],
      "source": [
        "expr = \"{[()()]([[]])}{}\"\n",
        "\n",
        "letters = set(list(expr))\n",
        "\n",
        "acceptable_letters = '(){}[]'\n",
        "\n",
        "for i in letters:\n",
        "    if i not in acceptable_letters:\n",
        "        expr = expr.replace(i,'')\n",
        "\n",
        "acceptable_pairs = ['()','[]','{}']\n",
        "while True:\n",
        "    reduced_expr = expr\n",
        "    for acceptable_pair in acceptable_pairs:\n",
        "        reduced_expr = reduced_expr.replace(acceptable_pair,'')\n",
        "    if len(reduced_expr) == len(expr):\n",
        "        break\n",
        "    else:\n",
        "        expr = reduced_expr[:]\n",
        "\n",
        "if len(expr) == 0:\n",
        "    print(True)\n",
        "else:\n",
        "    print(False)"
      ],
      "metadata": {
        "id": "2-UCbTRQ6iK7",
        "colab": {
          "base_uri": "https://localhost:8080/"
        },
        "outputId": "526a2c44-feda-495b-ef4b-5541d0e2dc33"
      }
    },
    {
      "cell_type": "markdown",
      "source": [
        "## Task 07 – Queue\n",
        "Write a program that simulates a queue. It will read strings from the input. Consider these inputs as names of people coming to the end of a queue. Whenever “next” is given as input, the program will print out the name on the turn. The program finishes as soon as the queue is empty."
      ],
      "metadata": {
        "collapsed": false,
        "id": "tc-8rPlP6iK7"
      }
    },
    {
      "cell_type": "code",
      "execution_count": 72,
      "outputs": [
        {
          "output_type": "stream",
          "name": "stdout",
          "text": [
            "['kalma', 'lala', 'ika', 'kkk', 'llll', 'llll']\n",
            "\n",
            "[['kalma', 'lala', 'ika', 'kkk', 'llll', 'llll']]\n"
          ]
        }
      ],
      "source": [
        "input_str = ''\n",
        "inputs_lists = []\n",
        "inputs_list = []\n",
        "while True:\n",
        "\n",
        "    input_str = input()\n",
        "    if input_str == 'next':\n",
        "        print(inputs_list)\n",
        "        inputs_lists.append(inputs_list)\n",
        "        inputs_list = []\n",
        "    elif input_str == '':\n",
        "        if len(inputs_list) != 0:\n",
        "            inputs_lists.append(inputs_list)\n",
        "        break\n",
        "    else:\n",
        "    \n",
        "        inputs_list.append(input_str)\n",
        "\n",
        "print(inputs_lists)"
      ],
      "metadata": {
        "id": "X0o04N6s6iK7",
        "colab": {
          "base_uri": "https://localhost:8080/"
        },
        "outputId": "bbdc62ec-8f2a-4fea-e96b-9fe20414a03f"
      }
    },
    {
      "cell_type": "markdown",
      "source": [
        "## Task 08 – Unlimited Power\n",
        "Write a function with two arguments – $x$ and $n$. The function returns the value of $x^n$. Use [recursion](https://realpython.com/python-thinking-recursively/#recursive-data-structures-in-python)."
      ],
      "metadata": {
        "collapsed": false,
        "id": "eIhaN3g36iK8"
      }
    },
    {
      "cell_type": "code",
      "execution_count": null,
      "outputs": [
        {
          "output_type": "execute_result",
          "data": {
            "text/plain": [
              "64"
            ]
          },
          "metadata": {},
          "execution_count": 62
        }
      ],
      "source": [
        "def pwr(x, n):\n",
        "  if (n == 0):\n",
        "    return 1\n",
        "  if (x == 0):\n",
        "    return 0\n",
        "  else:\n",
        "    return x * pwr(x, n - 1)\n",
        "pwr(4,3)"
      ],
      "metadata": {
        "id": "KSGHEAeL6iK8",
        "colab": {
          "base_uri": "https://localhost:8080/"
        },
        "outputId": "07a8d903-18df-432b-b95a-9ce6fb72f92f"
      }
    },
    {
      "cell_type": "markdown",
      "source": [
        "## Task 09 – Unlimited Power II\n",
        "Using function for factorial and function $x^n$ from previous task, write a program that reads value of $x$ and prints approximate value of $e^x$. Use this formula (Taylor series) for calculation\n",
        "$$ e^x = 1 + x + \\frac{x^2}{2!} + \\frac{x^3}{3!} + ... + \\frac{x^n}{n!} $$\n",
        "\n",
        "To get precise value of $e^x$, the series would have to be infinite. Suppose that there is some required accuracy, so the calculation finishes as soon as the value of the next element is smaller than given threshold (e.g., 0.000001)."
      ],
      "metadata": {
        "collapsed": false,
        "id": "WBh2WBXY6iK8"
      }
    },
    {
      "cell_type": "code",
      "execution_count": 75,
      "outputs": [
        {
          "output_type": "stream",
          "name": "stdout",
          "text": [
            "4\n",
            "54.598149928148814\n"
          ]
        }
      ],
      "source": [
        "def pwr(x, n):\n",
        "  if (n == 0):\n",
        "    return 1\n",
        "  if (x == 0):\n",
        "    return 0\n",
        "  else:\n",
        "    return x * pwr(x, n - 1)\n",
        "\n",
        "def fct(x):\n",
        "    if x == 0:\n",
        "        return 1\n",
        "    else:\n",
        "        return x*fct(x-1)\n",
        "\n",
        "x = float(input())\n",
        "ex = 0\n",
        "i = 0\n",
        "while True:\n",
        "    nxt = pwr(x,i)/fct(i)\n",
        "    ex = ex + nxt\n",
        "    if nxt <= 0.000001:\n",
        "        break\n",
        "    i += 1\n",
        "\n",
        "\n",
        "print(ex)"
      ],
      "metadata": {
        "id": "tRaZgBVX6iK9",
        "colab": {
          "base_uri": "https://localhost:8080/"
        },
        "outputId": "a03aaa17-6343-4c43-db63-b9307f405bde"
      }
    },
    {
      "cell_type": "markdown",
      "source": [
        "## Acknowledgements\n",
        "\n",
        "Redmond, Hsu, Saini, Gupta, Ramsey, Kondrich, Capoor, Cohen, Borus, Kincaid, Malik, and many others. - Stanford CS41"
      ],
      "metadata": {
        "collapsed": false,
        "id": "Wl9JCEYM6iK-"
      }
    },
    {
      "cell_type": "code",
      "execution_count": null,
      "outputs": [],
      "source": [],
      "metadata": {
        "id": "Bx-WQj4v6iK-"
      }
    }
  ],
  "metadata": {
    "kernelspec": {
      "display_name": "Python 3",
      "language": "python",
      "name": "python3"
    },
    "language_info": {
      "codemirror_mode": {
        "name": "ipython",
        "version": 2
      },
      "file_extension": ".py",
      "mimetype": "text/x-python",
      "name": "python",
      "nbconvert_exporter": "python",
      "pygments_lexer": "ipython2",
      "version": "2.7.6"
    },
    "colab": {
      "provenance": [],
      "include_colab_link": true
    }
  },
  "nbformat": 4,
  "nbformat_minor": 0
}