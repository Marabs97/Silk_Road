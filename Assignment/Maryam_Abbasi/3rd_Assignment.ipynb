{
  "cells": [
    {
      "cell_type": "markdown",
      "metadata": {
        "id": "view-in-github",
        "colab_type": "text"
      },
      "source": [
        "<a href=\"https://colab.research.google.com/github/Marabs97/Silk_Road/blob/main/Assignment/Maryam_Abbasi/3rd_Assignment.ipynb\" target=\"_parent\"><img src=\"https://colab.research.google.com/assets/colab-badge.svg\" alt=\"Open In Colab\"/></a>"
      ]
    },
    {
      "cell_type": "markdown",
      "source": [
        "# Assignment 03\n",
        "#### Python Basics III - Functions and Classes\n",
        "\n",
        "This tutorial was written by Terry L. Ruas (University of Göttingen). The references for external contributors for which this material was anyhow adapted/inspired are in the Acknowledgments section (end of the document)."
      ],
      "metadata": {
        "collapsed": false,
        "id": "3i7Q6MM_7a82"
      }
    },
    {
      "cell_type": "markdown",
      "source": [
        "This notebook will cover the following tasks:\n",
        "\n",
        "1. Dictionary\n",
        "2. Classes"
      ],
      "metadata": {
        "collapsed": false,
        "id": "eKtTDCOS7a83"
      }
    },
    {
      "cell_type": "markdown",
      "source": [
        "## Task 01 – Dictionary\n",
        "Imagine you have to write a (very simple) bookkeepingsystem for a bank that keeps track of the account balances of each of its customers.\n",
        "1. Write a function that spans a dictionary holding a default balance of 0 for an initial list of customers. For simplicity, assume customer names are unique identifier.  (optional) Can you express that same functionality using a lambda function?\n",
        "2. What are elegant ways to add or remove single and multiple customers using the functionality of dict?\n",
        "3. Now write two simple functions that allow you to deposit and withdraw money for a given bank customer.\n",
        "4. Include error messages for inputs that are not permissible, e.g., withdrawing negative amounts or overdrawing the account, etc."
      ],
      "metadata": {
        "collapsed": false,
        "id": "XumFInmh7a85"
      }
    },
    {
      "cell_type": "code",
      "execution_count": null,
      "outputs": [
        {
          "output_type": "stream",
          "name": "stdout",
          "text": [
            "{'Ali': 0, 'Sarah': 0, 'Dani': 0}\n"
          ]
        }
      ],
      "source": [
        "#task 1\n",
        "\n",
        "bank_accounts = {}\n",
        "\n",
        "# def bank_accounts_spaner(customer):\n",
        "#   global bank_accounts\n",
        "#   bank_accounts[customer] = 0\n",
        "#   return(None)\n",
        "\n",
        "bank_accounts_spaner = lambda customer,bank_accounts : bank_accounts.update({customer:0})\n",
        "\n",
        "customers = [\"Ali\", \"Sarah\", \"Dani\"]\n",
        "for customer in customers:\n",
        "  bank_accounts_spaner(customer,bank_accounts)\n",
        "\n",
        "print(bank_accounts)\n"
      ],
      "metadata": {
        "id": "aEr0j2IX7a85",
        "colab": {
          "base_uri": "https://localhost:8080/"
        },
        "outputId": "04fb03eb-154f-471d-86f1-2e57cd1c9876"
      }
    },
    {
      "cell_type": "code",
      "source": [
        "#task 2\n",
        "\n",
        "#we use pop and update or append"
      ],
      "metadata": {
        "id": "jj6nFsfGKly5"
      },
      "execution_count": null,
      "outputs": []
    },
    {
      "cell_type": "code",
      "source": [
        "#task 3,4\n",
        "\n",
        "def deposit(money,customer):\n",
        "  global bank_accounts\n",
        "  if money >= 0:\n",
        "    bank_accounts[customer] += money\n",
        "  else: \n",
        "    print(\"You Cannot Add Negative Amount!!\")\n",
        "  return None\n",
        "\n",
        "deposit(10,\"Ali\")\n",
        "print(bank_accounts)"
      ],
      "metadata": {
        "colab": {
          "base_uri": "https://localhost:8080/"
        },
        "id": "m-QZCoRq5dVk",
        "outputId": "d2c4c816-b17c-44a4-e4a4-c51bd013b21e"
      },
      "execution_count": null,
      "outputs": [
        {
          "output_type": "stream",
          "name": "stdout",
          "text": [
            "{'Ali': 10, 'Sarah': 0, 'Dani': 0}\n"
          ]
        }
      ]
    },
    {
      "cell_type": "code",
      "source": [
        "#task 3,4\n",
        "\n",
        "def withdraw(money,customer):\n",
        "  if money >= 0:\n",
        "    global bank_accounts\n",
        "    balance = bank_accounts[customer]\n",
        "    if balance - money < 0:\n",
        "      print(\"Sorry to Dissapoint You; You Don't Have Enough Budget!\")\n",
        "    else:\n",
        "      bank_accounts[customer] -= money  \n",
        "  else: \n",
        "    print(\"You Cannot take Negative Amount!!\")\n",
        "  \n",
        "withdraw(10,\"Sarah\")\n",
        "print(bank_accounts)"
      ],
      "metadata": {
        "colab": {
          "base_uri": "https://localhost:8080/"
        },
        "id": "t9NdAgvTGPOP",
        "outputId": "896d809c-7a3d-47b0-eb02-7a27bbfb557a"
      },
      "execution_count": null,
      "outputs": [
        {
          "output_type": "stream",
          "name": "stdout",
          "text": [
            "Sorry to Dissapoint You; You Don't Have Enough Budget!\n",
            "{'Ali': 10, 'Sarah': 0, 'Dani': 0}\n"
          ]
        }
      ]
    },
    {
      "cell_type": "markdown",
      "source": [
        "## Task 02 – Classes\n",
        "The manager thinks that the simple bookkeeping system you have built is not powerful enough. She requests that you start from scratch and use classes instead.\n",
        "1. Write a simple class with appropriate constructor *\\_\\_init\\_\\_* that initializes an object of class *Customer* tracking the same information as in Task 01.\n",
        "2. Now write two simple methods for class *Customer* that allow you to deposit and withdraw money for a given customer object.\n",
        "3. Include error messages for inputs that are not permissible, e.g., withdrawing negative amounts or overdrawing the account.\n",
        "4. (Inheritance) Write a child class *SavingsCustomer* that inherits its features from the parent class *Customer*. A savings customer has an extra savings balance for receiving extra interest. The class should have a method to transfer money back and forth between the accounts' main balance as well as the savings balance. Do not forget to add reasonable error messages."
      ],
      "metadata": {
        "collapsed": false,
        "id": "9tMOI3tn7a86"
      }
    },
    {
      "cell_type": "code",
      "source": [
        "class Customer:\n",
        "  def __init__(self, name, balance):\n",
        "    self.name = name\n",
        "    self.balance = balance\n",
        "customer_1 = Customer('Sarah',100)\n",
        "customer_2 = Customer('Ali',0)\n",
        "customer_3 = Customer('Dani',0)\n",
        "print(customer_1.balance)"
      ],
      "metadata": {
        "colab": {
          "base_uri": "https://localhost:8080/"
        },
        "id": "uoJHQe8RImD7",
        "outputId": "ccdffc9e-a100-44c5-a4f7-979627e935ee"
      },
      "execution_count": null,
      "outputs": [
        {
          "output_type": "stream",
          "name": "stdout",
          "text": [
            "100\n"
          ]
        }
      ]
    },
    {
      "cell_type": "code",
      "source": [
        "class Customer:\n",
        "  def __init__(self, name, balance = 0):\n",
        "    self.name = name\n",
        "    self.balance = balance\n",
        "  def deposit(self, money):\n",
        "    if money >= 0:\n",
        "      self.balance += money\n",
        "    else: \n",
        "      print(\"You Cannot Add Negative Amount!!\")\n",
        "    return None\n",
        "\n",
        "  def withdraw(self, money):\n",
        "    if money >= 0:\n",
        "      if self.balance - money < 0:\n",
        "        print(\"Sorry to Dissapoint You; You Don't Have Enough Budget!\")\n",
        "      else:\n",
        "        self.balance -= money  \n",
        "    else: \n",
        "      print(\"You Cannot take Negative Amount!!\")\n",
        "\n",
        "customer = Customer('Ali')\n",
        "customer.deposit(100)\n",
        "print(customer.balance)\n",
        "\n",
        "customer.withdraw(10)\n",
        "print(customer.balance)\n",
        "\n",
        "customer.withdraw(1000)\n"
      ],
      "metadata": {
        "colab": {
          "base_uri": "https://localhost:8080/"
        },
        "id": "JMg2mnDSTBBg",
        "outputId": "7ebc7280-c722-418b-a5aa-6cb37c1bc7f5"
      },
      "execution_count": null,
      "outputs": [
        {
          "output_type": "stream",
          "name": "stdout",
          "text": [
            "100\n",
            "90\n",
            "Sorry to Dissapoint You; You Don't Have Enough Budget!\n"
          ]
        }
      ]
    },
    {
      "cell_type": "code",
      "source": [
        "class Customer:\n",
        "  def __init__(self, name, balance):\n",
        "    self.name = name\n",
        "    self.balance = balance\n",
        "  def deposit_to_main(self, money):\n",
        "    if money >= 0:\n",
        "      self.balance += money\n",
        "      return True\n",
        "    else: \n",
        "      print(\"You Cannot Add Negative Amount!!\")\n",
        "      return False\n",
        "\n",
        "  def withdraw_from_main(self, money):\n",
        "    if money >= 0:\n",
        "      if self.balance - money < 0:\n",
        "        print(\"Sorry to Dissapoint You; You Don't Have Enough Budget!\")\n",
        "        return False \n",
        "      else:\n",
        "        self.balance -= money  \n",
        "        return True\n",
        "    else: \n",
        "      print(\"You Cannot take Negative Amount!!\")\n",
        "      return False\n",
        "\n",
        "class SavingsCustomer(Customer):\n",
        "  def __init__(self, name, balance = 0, saving_balance = 0):\n",
        "    super().__init__(name, balance)\n",
        "    self.saving_balance = saving_balance\n",
        "  \n",
        "  def deposit_to_saving(self, money):\n",
        "    if money >= 0:\n",
        "      self.saving_balance += money\n",
        "      return True\n",
        "    else: \n",
        "      print(\"You Cannot Add Negative Amount!!\")\n",
        "      return False\n",
        "\n",
        "  def withdraw_from_saving(self, money):\n",
        "    if money >= 0:\n",
        "      if self.saving_balance - money < 0:\n",
        "        print(\"Sorry to Dissapoint You; You Don't Have Enough Budget!\")\n",
        "        return False \n",
        "      else:\n",
        "        self.saving_balance -= money  \n",
        "        return True\n",
        "    else: \n",
        "      print(\"You Cannot take Negative Amount!!\")\n",
        "      return False\n",
        "  \n",
        "  def transfer_to_saving(self, money):\n",
        "    transaction_result = self.withdraw_from_main(money)\n",
        "    if transaction_result:\n",
        "      transaction_result = self.deposit_to_saving(money)\n",
        "  \n",
        "  def transfer_from_saving(self, money):\n",
        "    transaction_result = self.withdraw_from_saving(money)\n",
        "    if transaction_result:\n",
        "      transaction_result = self.deposit_to_main(money)\n",
        "\n",
        "\n",
        "saving_customer = SavingsCustomer('ChAi NabAt')\n",
        "print('Main Balance:', saving_customer.balance)\n",
        "print('Saving Balance:', saving_customer.saving_balance)\n",
        "\n",
        "# deposit to main\n",
        "saving_customer.deposit_to_main(1000)\n",
        "saving_customer.deposit_to_main(-1000)\n",
        "\n",
        "# profit to saving or withdraw from it\n",
        "saving_customer.deposit_to_saving(1000)\n",
        "saving_customer.deposit_to_saving(-1000)\n",
        "\n",
        "# wthdraw from main\n",
        "saving_customer.withdraw_from_main(10)\n",
        "saving_customer.withdraw_from_main(-1000)\n",
        "\n",
        "# برای واریز به حساب پس انداز\n",
        "saving_customer.withdraw_from_saving(10)\n",
        "saving_customer.withdraw_from_saving(-1000)\n",
        "\n",
        "# transfer from saving\n",
        "saving_customer.transfer_from_saving(20)\n",
        "saving_customer.transfer_from_saving(1000)\n",
        "saving_customer.transfer_from_saving(-20)\n",
        "\n",
        "# transfer to saving\n",
        "saving_customer.transfer_to_saving(40)\n",
        "saving_customer.transfer_to_saving(1000)\n",
        "saving_customer.transfer_to_saving(-40)\n",
        "\n",
        "print('Main Balance:', saving_customer.balance)\n",
        "print('Saving Balance:', saving_customer.saving_balance)\n"
      ],
      "metadata": {
        "colab": {
          "base_uri": "https://localhost:8080/"
        },
        "id": "Mmz0T_c9e8vX",
        "outputId": "a414c974-81a1-4025-cf9c-4c6520c01c08"
      },
      "execution_count": null,
      "outputs": [
        {
          "output_type": "stream",
          "name": "stdout",
          "text": [
            "Main Balance: 0\n",
            "Saving Balance: 0\n",
            "You Cannot Add Negative Amount!!\n",
            "You Cannot Add Negative Amount!!\n",
            "You Cannot take Negative Amount!!\n",
            "You Cannot take Negative Amount!!\n",
            "Sorry to Dissapoint You; You Don't Have Enough Budget!\n",
            "You Cannot take Negative Amount!!\n",
            "Sorry to Dissapoint You; You Don't Have Enough Budget!\n",
            "You Cannot take Negative Amount!!\n",
            "Main Balance: 970\n",
            "Saving Balance: 1010\n"
          ]
        }
      ]
    }
  ],
  "metadata": {
    "kernelspec": {
      "display_name": "Python 3",
      "language": "python",
      "name": "python3"
    },
    "language_info": {
      "codemirror_mode": {
        "name": "ipython",
        "version": 2
      },
      "file_extension": ".py",
      "mimetype": "text/x-python",
      "name": "python",
      "nbconvert_exporter": "python",
      "pygments_lexer": "ipython2",
      "version": "2.7.6"
    },
    "colab": {
      "provenance": [],
      "include_colab_link": true
    }
  },
  "nbformat": 4,
  "nbformat_minor": 0
}