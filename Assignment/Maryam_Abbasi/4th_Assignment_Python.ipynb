{
  "cells": [
    {
      "cell_type": "markdown",
      "source": [
        "# Assignment 04\n",
        "#### Python Basics IV - Functions, Unity Testing, and Logging\n",
        "\n",
        "This tutorial was written by Terry L. Ruas (University of Göttingen). The references for external contributors for which this material was anyhow adapted/inspired are in the Acknowledgments section (end of the document)."
      ],
      "metadata": {
        "collapsed": false,
        "id": "_ikvQGPR7a99"
      }
    },
    {
      "cell_type": "markdown",
      "source": [
        "This notebook will cover the following tasks:\n",
        "\n",
        "1. Lambda functions\n",
        "2. List comprehensions\n",
        "3. Unity Test\n",
        "4. HTTP Request\n",
        "5. Logging\n",
        "6. Download File"
      ],
      "metadata": {
        "collapsed": false,
        "id": "SchiSV187a9-"
      }
    },
    {
      "cell_type": "markdown",
      "source": [
        "## Task 01 – Lambda functions\n",
        "Python supports lambda functions as a handy way to define small, anonymous, i.e., unnamed, functions inline. The basic syntax for lambda functions is:\n",
        "$$\n",
        " \\textbf{lambda}\\text{ parameter1, parameter2, ... : }\\textbf{expression}\n",
        "$$\n",
        "Use a lambda function only to retain the even values in an array of integers. Test your function with an input array of your choosing. Print the input array and the filtered output array to stdout."
      ],
      "metadata": {
        "collapsed": false,
        "id": "QOoNCxgu7a-A"
      }
    },
    {
      "cell_type": "code",
      "execution_count": null,
      "outputs": [
        {
          "output_type": "stream",
          "name": "stdout",
          "text": [
            "[30, 6, 20, 18, 66, 30, 82, 46, 72, 68, 96, 28, 38, 46, 42, 84, 82, 26, 96, 28, 20, 86, 88, 16, 68, 28, 10, 8, 2, 82, 52, 54, 58, 2, 68, 62, 40, 74, 88, 38, 58, 86]\n"
          ]
        }
      ],
      "source": [
        "import numpy as np\n",
        "array_of_int = np.random.randint(100, size=100) \n",
        "even_nums = list(filter(lambda array_of_int: (array_of_int % 2 == 0) , array_of_int))\n",
        "print(even_nums)"
      ],
      "metadata": {
        "id": "5keoJAOw7a-B",
        "colab": {
          "base_uri": "https://localhost:8080/"
        },
        "outputId": "28da1e01-173c-4140-815f-bef16cfbc1b7"
      }
    },
    {
      "cell_type": "markdown",
      "source": [
        "## Task 02 – List comprehensions\n",
        "Python supports list comprehension. The basic syntax of list comprehensions is:\n",
        "$$\n",
        "\\text{L = [<elem> for <elem> <Condition>]}\n",
        "$$\n",
        "Use list comprehensions to write a Python function *remove_long_words()* that:\n",
        "- accepts a sentence s and an integer n as input parameters\n",
        "- uses the *split()* function of String objects to split the sentence into words\n",
        "- stores the individual words in a list\n",
        "- removes all words that are longer than n characters from the list, thereby creating a new list\n",
        "- prints the list to stdout"
      ],
      "metadata": {
        "collapsed": false,
        "id": "XSyLzHT17a-B"
      }
    },
    {
      "cell_type": "code",
      "execution_count": null,
      "outputs": [
        {
          "output_type": "stream",
          "name": "stdout",
          "text": [
            "['ha', 'y', '25']\n"
          ]
        }
      ],
      "source": [
        "def remove_long_words(s,n):\n",
        "\n",
        "  splited = [word for word in s.split()]\n",
        "  splited = [i for i in splited if len(i) < n]\n",
        "  \n",
        "  print(splited)\n",
        "remove_long_words(\"Drac balalalalala salam khar ha y 25 \", 3)"
      ],
      "metadata": {
        "id": "hT-mGe_T7a-B",
        "colab": {
          "base_uri": "https://localhost:8080/"
        },
        "outputId": "ecbdcb73-9d83-4f75-f115-02120717df3e"
      }
    },
    {
      "cell_type": "markdown",
      "source": [
        "## Task 03 – Unity Test\n",
        "The following algorithm in Python converts numbers in decimal representation to binary.\n",
        "1. Develop a unit test that checks for values in the interval \\[-1,3\\] whether the algorithm returns the\n",
        "expected results.\n",
        "2. Adjust the algorithm, so it passes the unit test developed in 1). Rename the function to\n",
        "*decimal_to_binary_correct()*"
      ],
      "metadata": {
        "collapsed": false,
        "id": "_QHEBddh7a-C"
      }
    },
    {
      "cell_type": "code",
      "execution_count": null,
      "outputs": [
        {
          "output_type": "execute_result",
          "data": {
            "text/plain": [
              "'-1010011010.000'"
            ],
            "application/vnd.google.colaboratory.intrinsic+json": {
              "type": "string"
            }
          },
          "metadata": {},
          "execution_count": 16
        }
      ],
      "source": [
        "import math\n",
        "def decimal_to_binary_correct(n, k = 3 ):\n",
        "    # The first byte will be used for distinguishing the negative and positive numbers. (zero for positive and one for negative)\n",
        "    # The last k bytes are considered for the decimal fraction of the input.\n",
        "\n",
        "    binary_n = []\n",
        "\n",
        "    sign = '+' if n >= 0 else '-'\n",
        "    n = abs(n)\n",
        "\n",
        "    int_n = int(n)\n",
        "    binary_int_n = []\n",
        "    while int_n > 0:\n",
        "      binary_int_n.append(int_n%2)\n",
        "      int_n = int_n // 2\n",
        "    binary_int_n = binary_int_n[::-1]\n",
        "\n",
        "    decimal_n = n - int(n)\n",
        "    binary_decimal_n = []\n",
        "    for i in range(k):\n",
        "      decimal_n = decimal_n*2\n",
        "      binary_decimal_n.append(int(decimal_n))\n",
        "      decimal_n = decimal_n - int(decimal_n)\n",
        "    \n",
        "    binary_int_n = [str(i) for i in binary_int_n]\n",
        "    binary_decimal_n = [str(i) for i in binary_decimal_n]\n",
        "\n",
        "    return f\"{sign}{''.join(binary_int_n)}.{''.join(binary_decimal_n)}\"\n",
        "  \n",
        "decimal_to_binary_correct(-666)"
      ],
      "metadata": {
        "id": "IdFKIU4u7a-C",
        "colab": {
          "base_uri": "https://localhost:8080/",
          "height": 35
        },
        "outputId": "a4675fe9-275e-4f03-b10c-7e33e0e4acbd"
      }
    },
    {
      "cell_type": "markdown",
      "source": [
        "## Task 04 – HTTP Request\n",
        "Working with HTTP connections is essential for many data gathering tasks. The Python library *urllib* provides all functionality we need.\n",
        "Write a Python function *open_url(url)* that:\n",
        "- uses urllib to establish a HTTP connection to an arbitrary website\n",
        "- retrieves and prints the first 200 characters of the html resource, i.e. the html source code, of the chosen website\n",
        "- handles the exceptions thrown by the *urllib.request* function\n",
        "\n",
        "FYI: The basic syntax for exception handling in Python is as follows:\n",
        "```\n",
        "try:\n",
        "    ...\n",
        "    return ...\n",
        "except SomeError1 as e:\n",
        "    # error-specific exception handling\n",
        "except SomeError2 as e:\n",
        "    # error-specific exception handling\n",
        "except\n",
        "    # general exception handling\n",
        "```"
      ],
      "metadata": {
        "collapsed": false,
        "id": "iNLOQ5y47a-E"
      }
    },
    {
      "cell_type": "code",
      "source": [
        "import urllib\n",
        "def open_url(url):\n",
        "    try:\n",
        "        http = urllib.request.urlopen(url).read()\n",
        "        return http[:200]\n",
        "    \n",
        "    except urllib.error.URLError:\n",
        "        print(f\"Error: cannot access the link {url}\")\n",
        "    except Exception as e:\n",
        "        print(f'Error: {e} - URL: {url}')\n",
        "        \n",
        "open_url(\"https://www.dw.com/de/themen/s-9077\") "
      ],
      "metadata": {
        "colab": {
          "base_uri": "https://localhost:8080/"
        },
        "id": "IIVpL2sE--lO",
        "outputId": "4147d214-aff1-47ca-8aa6-1509a9acaf28"
      },
      "execution_count": null,
      "outputs": [
        {
          "output_type": "execute_result",
          "data": {
            "text/plain": [
              "b'<!DOCTYPE html>\\n<!--[if lt IE 7 ]><!-->\\n<html lang=\"de\" class=\"ie ie6\"> <!--<![endif]-->\\n<!--[if IE 7 ]><!-->\\n<html lang=\"de\" class=\"ie ie7\"> <!--<![endif]-->\\n<!--[if IE 8 ]><!-->\\n<html lang=\"de\" clas'"
            ]
          },
          "metadata": {},
          "execution_count": 4
        }
      ]
    },
    {
      "cell_type": "markdown",
      "source": [
        "## Task 05 – Logging\n",
        "The logging module in Python provides functionality for logging and debugging purposes. Use the logging module to extend the error handling for the function that you implemented to establish a HTTP connection (Task 4). All exceptions thrown by your function shall be logged as errors.\n",
        "\n",
        "To accomplish the task:\n",
        "- write a Python function *init_log(file_name, file_mode, level, format, date_format)* that initializes a custom log file to which all debugging information and errors are appended using a format that includes the date, time, level and the message of the logging event\n",
        "- log occurring errors by calling *logging.error(...)*\n",
        "- close the log after completing your task by calling *logging.shutdown()*\n",
        "\n",
        "If you choose not to complete Tasks 4, test the logging functionality with a few examples of your own."
      ],
      "metadata": {
        "collapsed": false,
        "id": "ogac-RcI7a-F"
      }
    },
    {
      "cell_type": "code",
      "source": [
        "import urllib\n",
        "import logging\n",
        "\n",
        "# defined in Task 05\n",
        "def init_log(file_name, file_mode, level, format, date_format):\n",
        "    logging.basicConfig(filename=file_name,\n",
        "                        filemode=file_mode,\n",
        "                        level=level,\n",
        "                        format=format,\n",
        "                        datefmt=date_format)\n",
        "\n",
        "def open_url(url):\n",
        "    try:\n",
        "        http = urllib.request.urlopen(url).read()\n",
        "        return http[:200]\n",
        "    except urllib.error.URLError:\n",
        "        print(f\"Error: cannot access the link {url}\")\n",
        "    except Exception as e:\n",
        "        print(f'Error: {e} - URL: {url}')\n",
        "\n",
        "\n",
        "file_name = \"log.txt\"\n",
        "file_mode = 'a'\n",
        "format = '%(asctime)s %(message)s %(levelname)s'\n",
        "date_format = '%m/%d/%Y %I:%M:%S %p'\n",
        "\n",
        "init_log(\n",
        "    file_name,\n",
        "    file_mode,\n",
        "    logging.DEBUG,\n",
        "    format,\n",
        "    date_format)\n",
        "\n",
        "\n",
        "open_url(\"https://www.dw.com/de/themen/s-9077\") \n",
        "\n",
        "logging.shutdown()"
      ],
      "metadata": {
        "colab": {
          "base_uri": "https://localhost:8080/"
        },
        "id": "08H7CP8ol1xp",
        "outputId": "cf89331b-43d8-4c2a-fab8-6acbd453e3c0"
      },
      "execution_count": null,
      "outputs": [
        {
          "output_type": "stream",
          "name": "stderr",
          "text": [
            "ERROR:root:No text file found at given URL, download aborted!\n"
          ]
        },
        {
          "output_type": "stream",
          "name": "stdout",
          "text": [
            "Error: cannot access the link https://www.justinbiebermusic.com.txt\n"
          ]
        }
      ]
    },
    {
      "cell_type": "markdown",
      "source": [
        "## Task 06 – Download File\n",
        "In Task 4, you used the *urllib* library to establish a http connection. You can also use the *urllib* library to perform simple file downloads.\n",
        "\n",
        "Write a Python function *download_file(url, path)* that:\n",
        "- checks whether the input URL points to a .txt file\n",
        "- if the input URL points to a .txt file, uses the *urllib* library to download and write the text file to the given path on your machine\n",
        "- logs an error “No text file found at given URL, download aborted!” to the log file created in Task 5 if the input URL does not point to a .txt file.\n",
        "- properly handles exceptions\n",
        "\n",
        "Use the *download_file()* function to download William Shakespeare’s drama Macbeth as a plain\n",
        "text file from: [Macbeth](https://ia802707.us.archive.org/1/items/macbeth02264gut/0ws3410.txt)"
      ],
      "metadata": {
        "collapsed": false,
        "id": "FFvlZPUc7a-G"
      }
    },
    {
      "cell_type": "code",
      "execution_count": null,
      "outputs": [
        {
          "output_type": "stream",
          "name": "stdout",
          "text": [
            "Download is completed. filepath: ./0ws3410.txt\n"
          ]
        }
      ],
      "source": [
        "import os.path\n",
        "\n",
        "\n",
        "def download_file(url, path, file_name = None):\n",
        "    if url.split('.')[-1] == 'txt':\n",
        "        if file_name is None:\n",
        "            file_name = url.split('/')[-1]\n",
        "\n",
        "        try:\n",
        "            resource = urllib.request.urlopen(test_url)\n",
        "            content = resource.read().decode(resource.headers.get_content_charset())\n",
        "            f = open(os.path.join(path, file_name),'w')\n",
        "            f.write(content)\n",
        "            f.close()\n",
        "            print(f'Download is completed. filepath: {os.path.join(path, file_name)}')\n",
        "        \n",
        "        except urllib.error.URLError:\n",
        "            print(f\"No text file found at given URL, download aborted!\")\n",
        "        except Exception as e:\n",
        "            print(f'Error: {e}')\n",
        "        \n",
        "    else:\n",
        "        print('Failed') ############# \n",
        "\n",
        "def init_log(file_name, file_mode, level, format, date_format):\n",
        "    logging.basicConfig(filename=file_name,\n",
        "                        filemode=file_mode,\n",
        "                        level=level,\n",
        "                        format=format,\n",
        "                        datefmt=date_format)\n",
        "\n",
        "\n",
        "file_name = \"log.txt\"\n",
        "file_mode = 'a'\n",
        "format = '%(asctime)s %(message)s %(levelname)s'\n",
        "date_format = '%m/%d/%Y %I:%M:%S %p'\n",
        "\n",
        "init_log(\n",
        "    file_name,\n",
        "    file_mode,\n",
        "    logging.DEBUG,\n",
        "    format,\n",
        "    date_format)\n",
        "\n",
        "test_url = 'https://ia802707.us.archive.org/1/items/macbeth02264gut/0ws3410.txt'\n",
        "path = './'\n",
        "\n",
        "download_file(test_url, path, file_name = None)\n",
        "\n",
        "logging.shutdown()"
      ],
      "metadata": {
        "id": "3L-DwhcZ7a-G",
        "colab": {
          "base_uri": "https://localhost:8080/"
        },
        "outputId": "16488129-2c8a-4ccd-e9ea-67870045a38d"
      }
    }
  ],
  "metadata": {
    "kernelspec": {
      "display_name": "Python 3",
      "language": "python",
      "name": "python3"
    },
    "language_info": {
      "codemirror_mode": {
        "name": "ipython",
        "version": 2
      },
      "file_extension": ".py",
      "mimetype": "text/x-python",
      "name": "python",
      "nbconvert_exporter": "python",
      "pygments_lexer": "ipython2",
      "version": "2.7.6"
    },
    "colab": {
      "provenance": []
    }
  },
  "nbformat": 4,
  "nbformat_minor": 0
}