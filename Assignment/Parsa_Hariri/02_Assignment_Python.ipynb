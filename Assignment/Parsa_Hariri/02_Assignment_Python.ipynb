{
  "cells": [
    {
      "cell_type": "markdown",
      "source": [
        "# Assignment 02\n",
        "##### Python Basics II\n",
        "\n",
        "This tutorial was written by Terry Ruas (University of Göttingen); The references for external contributors for which this material was anyhow adapted/inspired are in the Acknowledgments section (end of the document).\n"
      ],
      "metadata": {
        "collapsed": false,
        "id": "LZgQdr4W6iKz"
      }
    },
    {
      "cell_type": "markdown",
      "source": [
        "This notebook will cover the following tasks:\n",
        "\n",
        "1. String Length\n",
        "2. Largest List Element\n",
        "3. Character Frequency\n",
        "4. Sorted List of Tuples\n",
        "5. Check Brackets\n",
        "6. Check Brackets II\n",
        "7. Queue\n",
        "8. Unlimited Power\n",
        "9. Unlimited Power II"
      ],
      "metadata": {
        "collapsed": false,
        "id": "Yvektzz_6iK1"
      }
    },
    {
      "cell_type": "markdown",
      "source": [
        "## Task 01 – String Length\n",
        "Write a program that reads in a string and prints the length of the input string. Do not use any built-in functions of Python, such as len().\n",
        "For example, if the input is “Computer Science”, the output should be length: 16."
      ],
      "metadata": {
        "collapsed": false,
        "id": "4GPUv_8U6iK1"
      }
    },
    {
      "cell_type": "code",
      "execution_count": null,
      "outputs": [
        {
          "output_type": "stream",
          "name": "stdout",
          "text": [
            "Computer Science\n",
            "16\n"
          ]
        }
      ],
      "source": [
        "string = input()\n",
        "a = 0\n",
        "for i in string:\n",
        "  a+=1\n",
        "print(a)"
      ],
      "metadata": {
        "id": "xt3XV0YD6iK2",
        "colab": {
          "base_uri": "https://localhost:8080/"
        },
        "outputId": "caff1794-6d51-4ae6-98a9-4ff83aa8bcf3"
      }
    },
    {
      "cell_type": "markdown",
      "source": [
        "## Task 02 – Largest List Element\n",
        "Write a program that generates a list of 10 random integers between 1 and 100 and then finds and prints the largest element in the list. Do not use the built-in function max().\n",
        "For example, if the input is [23,3,42,29,12,15,8,4,37,34], the output should be the largest element: 42.\n",
        "\n",
        "Hint: Check out the module [random](https://docs.python.org/3.7/library/random.html)."
      ],
      "metadata": {
        "collapsed": false,
        "id": "_Jz4T4AQ6iK3"
      }
    },
    {
      "cell_type": "code",
      "execution_count": null,
      "outputs": [
        {
          "output_type": "stream",
          "name": "stdout",
          "text": [
            "[12, 73, 10, 91, 37, 50, 15, 50, 10, 52]\n",
            "91\n"
          ]
        }
      ],
      "source": [
        "import random\n",
        "L = []\n",
        "\n",
        "for i in range(10):\n",
        "  L.append(random.randint(1, 100))\n",
        "Max = 1\n",
        "for j in L:\n",
        "  if j > Max:\n",
        "    Max = j\n",
        "print(L)\n",
        "print(Max)"
      ],
      "metadata": {
        "id": "aKLGcZ0_6iK3",
        "colab": {
          "base_uri": "https://localhost:8080/"
        },
        "outputId": "57cba70a-3a53-4f3e-985f-69e1e1b9e943"
      }
    },
    {
      "cell_type": "markdown",
      "source": [
        "## Task 03 – Character Frequency\n",
        "Write a program that:\n",
        "* Reads in a string and removes any spaces from the string\n",
        "* Counts how often individual characters occur in the string\n",
        "* Stores the information on character occurrence frequency in a dictionary\n",
        "* Prints the dictionary.\n",
        "\n",
        "For example, if the input is “santa claus”, the output should be:\n",
        "{'s': 2, 'a': 3, 'n': 1, 't': 1, 'c': 1, 'l': 1, 'u': 1}."
      ],
      "metadata": {
        "collapsed": false,
        "id": "PalhJ9x36iK4"
      }
    },
    {
      "cell_type": "code",
      "execution_count": null,
      "outputs": [
        {
          "output_type": "stream",
          "name": "stdout",
          "text": [
            "santa claus\n",
            "{'s': 2, 'a': 3, 'n': 1, 't': 1, 'c': 1, 'l': 1, 'u': 1}\n"
          ]
        }
      ],
      "source": [
        "string = input()\n",
        "Diction = {}\n",
        "for s in string:\n",
        "  if s !=\" \":\n",
        "    if s not in Diction:\n",
        "      Diction[s] = 1\n",
        "    else:\n",
        "      Diction[s]+=1\n",
        "print(Diction)"
      ],
      "metadata": {
        "id": "vm5UlcKB6iK4",
        "colab": {
          "base_uri": "https://localhost:8080/"
        },
        "outputId": "51f64076-db13-4cfd-efb2-d7a3f1e6a700"
      }
    },
    {
      "cell_type": "markdown",
      "source": [
        "## Task 04 – Sorted List of Tuples\n",
        "Write a program that:\n",
        "* Generates a list of 10 tuples, each tuple consisting of 3 random integers between 1 and 100\n",
        "* Sorts the list of tuples in increasing order of the third element in each tuple\n",
        "* Prints the sorted list of tuples\n",
        "\n",
        "For example, if the generated input list is: [(56, 77, 69), (43, 30, 38), (2, 77, 101), (93, 57, 4), (74, 21, 77), (39, 68, 68), (65, 53, 96), (16, 29, 88), (88, 70, 38)]\n",
        "The output should be: [(93, 57, 4), (43, 30, 38), (88, 70, 38), (39, 68, 68), (56, 77, 69), (74, 21, 77), (16, 29, 88), (65, 53, 96), (2, 77, 101)]\n",
        "\n",
        "Hint: You are allowed and encouraged to use built-in functions, such as [sorted()](https://docs.python.org/3.7/library/functions.html?highlight=sorted#sorted), for this task."
      ],
      "metadata": {
        "collapsed": false,
        "id": "JV1Mm9qA6iK5"
      }
    },
    {
      "cell_type": "code",
      "execution_count": null,
      "outputs": [
        {
          "output_type": "stream",
          "name": "stdout",
          "text": [
            "[(55, 75, 61), (29, 77, 60), (3, 89, 10), (31, 5, 51), (90, 81, 20), (42, 76, 81), (33, 78, 89), (2, 32, 66), (11, 28, 75), (39, 11, 45)]\n",
            "[(3, 89, 10), (90, 81, 20), (39, 11, 45), (31, 5, 51), (29, 77, 60), (55, 75, 61), (2, 32, 66), (11, 28, 75), (42, 76, 81), (33, 78, 89)]\n"
          ]
        }
      ],
      "source": [
        "import random\n",
        "L = []\n",
        "def take_therd(elem):\n",
        "    return elem[2]\n",
        "for i in range(10):\n",
        "  L.append((random.randint(1, 100),random.randint(1, 100),random.randint(1, 100)))\n",
        "print(L)\n",
        "print(sorted(L,key=take_therd))"
      ],
      "metadata": {
        "id": "C3i7ctus6iK6",
        "colab": {
          "base_uri": "https://localhost:8080/"
        },
        "outputId": "03abc77b-24b0-4064-c279-8d4dc486877d"
      }
    },
    {
      "cell_type": "markdown",
      "source": [
        "## Task 05 – Check Brackets\n",
        "Write a program that reads in a string, which is supposed to be a mathematical expression. Focus on brackets only and check whether left and right brackets are composed correctly. Ignore all other characters (i.e. you don’t have to check correctness of operators and operands).\n",
        "Examples of correct input:\n",
        "* 3*(2+5)\n",
        "* ((()())())\n",
        "* (3+)(((4)))\n",
        "* Empty string\n",
        "\n",
        "Examples of incorrect input:\n",
        "* (3*(2+5)\n",
        "* ((()())(())\n",
        "* (3+)((4)))\n",
        "* ())(()\n"
      ],
      "metadata": {
        "collapsed": false,
        "id": "qz4P36Lz6iK6"
      }
    },
    {
      "cell_type": "code",
      "execution_count": null,
      "outputs": [
        {
          "output_type": "stream",
          "name": "stdout",
          "text": [
            "((()())())\n",
            "True\n"
          ]
        }
      ],
      "source": [
        "string = input()\n",
        "counter = 0\n",
        "flag = True\n",
        "for s in string:\n",
        "  if counter < 0:\n",
        "    flag = False\n",
        "    break\n",
        "  if s == \"(\":\n",
        "    counter +=1\n",
        "  elif s == \")\":\n",
        "    counter -=1\n",
        "\n",
        "if flag and counter == 0 :\n",
        "  print(\"True\")\n",
        "else:\n",
        "  print(\"False\")\n"
      ],
      "metadata": {
        "id": "2c67p_Zc6iK7",
        "colab": {
          "base_uri": "https://localhost:8080/"
        },
        "outputId": "4b5db5f0-46f8-4d9f-ba15-c8d4026ae9e8"
      }
    },
    {
      "cell_type": "markdown",
      "source": [
        "## Task 06 – Check Brackets II\n",
        "Extend previous program, so it can handle also square and curly brackets. Note that expressions in brackets cannot overlap. So, expression ```{[()()]([[]])}{}``` is correct, but expression ```([)]``` is not."
      ],
      "metadata": {
        "collapsed": false,
        "id": "k1kh3odh6iK7"
      }
    },
    {
      "cell_type": "code",
      "execution_count": 9,
      "outputs": [
        {
          "output_type": "stream",
          "name": "stdout",
          "text": [
            "(3*(2+5)\n",
            "False\n"
          ]
        }
      ],
      "source": [
        "def areBracketsBalanced(expr):\n",
        "    stack = []\n",
        "\n",
        "    for char in expr:\n",
        "        if char not in [\"(\", \"{\", \"[\",\")\",\"]\",\"}\"]:\n",
        "          pass\n",
        "        elif char in [\"(\", \"{\", \"[\"]:\n",
        "\n",
        "            stack.append(char)\n",
        "        else:\n",
        "\n",
        "            if not stack:\n",
        "                return False\n",
        "            current_char = stack.pop()\n",
        "            if current_char == '(':\n",
        "                if char != \")\":\n",
        "                    return False\n",
        "            if current_char == '{':\n",
        "                if char != \"}\":\n",
        "                    return False\n",
        "            if current_char == '[':\n",
        "                if char != \"]\":\n",
        "                    return False \n",
        "    if stack:\n",
        "        return False\n",
        "    return True\n",
        "print(areBracketsBalanced(input()))"
      ],
      "metadata": {
        "id": "2-UCbTRQ6iK7",
        "colab": {
          "base_uri": "https://localhost:8080/"
        },
        "outputId": "10f00b08-c5f2-4706-b38a-b7b0b9cb82aa"
      }
    },
    {
      "cell_type": "markdown",
      "source": [
        "## Task 07 – Queue\n",
        "Write a program that simulates a queue. It will read strings from the input. Consider these inputs as names of people coming to the end of a queue. Whenever “next” is given as input, the program will print out the name on the turn. The program finishes as soon as the queue is empty."
      ],
      "metadata": {
        "collapsed": false,
        "id": "tc-8rPlP6iK7"
      }
    },
    {
      "cell_type": "code",
      "execution_count": null,
      "outputs": [
        {
          "output_type": "stream",
          "name": "stdout",
          "text": [
            "dvsdv\n",
            "cscsdcd\n",
            "dscds\n",
            "scdsd\n",
            "next\n",
            "dvsdv\n",
            "cscsdcd\n",
            "dscds\n",
            "scdsd\n"
          ]
        }
      ],
      "source": [
        "name_list = []\n",
        "while True:\n",
        "  string = input()\n",
        "  if string != \"next\":\n",
        "    name_list.append(string)\n",
        "  else:\n",
        "    break \n",
        "for name in name_list:\n",
        "  print(name)\n"
      ],
      "metadata": {
        "id": "X0o04N6s6iK7",
        "colab": {
          "base_uri": "https://localhost:8080/"
        },
        "outputId": "3784183a-17d7-44a0-a8e3-14beda046b32"
      }
    },
    {
      "cell_type": "markdown",
      "source": [
        "## Task 08 – Unlimited Power\n",
        "Write a function with two arguments – $x$ and $n$. The function returns the value of $x^n$. Use [recursion](https://realpython.com/python-thinking-recursively/#recursive-data-structures-in-python)."
      ],
      "metadata": {
        "collapsed": false,
        "id": "eIhaN3g36iK8"
      }
    },
    {
      "cell_type": "code",
      "execution_count": null,
      "outputs": [
        {
          "output_type": "stream",
          "name": "stdout",
          "text": [
            "100\n",
            "2\n",
            "10000\n"
          ]
        }
      ],
      "source": [
        "x = int(input())\n",
        "n = int(input())\n",
        "def power(a,b):\n",
        "  if b ==1 :\n",
        "    return a\n",
        "  else:\n",
        "    return a * power(a,b-1)\n",
        "print(power(x,n))"
      ],
      "metadata": {
        "id": "KSGHEAeL6iK8",
        "colab": {
          "base_uri": "https://localhost:8080/"
        },
        "outputId": "c4b056eb-b052-4a38-a569-bd3f98cb9640"
      }
    },
    {
      "cell_type": "markdown",
      "source": [
        "## Task 09 – Unlimited Power II\n",
        "Using function for factorial and function $x^n$ from previous task, write a program that reads value of $x$ and prints approximate value of $e^x$. Use this formula (Taylor series) for calculation\n",
        "$$ e^x = 1 + x + \\frac{x^2}{2!} + \\frac{x^3}{3!} + ... + \\frac{x^n}{n!} $$\n",
        "\n",
        "To get precise value of $e^x$, the series would have to be infinite. Suppose that there is some required accuracy, so the calculation finishes as soon as the value of the next element is smaller than given threshold (e.g., 0.000001)."
      ],
      "metadata": {
        "collapsed": false,
        "id": "WBh2WBXY6iK8"
      }
    },
    {
      "cell_type": "code",
      "execution_count": null,
      "outputs": [
        {
          "output_type": "stream",
          "name": "stdout",
          "text": [
            "10\n",
            "22026.465793823776\n"
          ]
        }
      ],
      "source": [
        "x= int(input())\n",
        "\n",
        "def power(a,b):\n",
        "  if b ==1 :\n",
        "    return a\n",
        "  else:\n",
        "    return a * power(a,b-1)\n",
        "\n",
        "def factorial(n , a = 1):\n",
        "  if a ==n:\n",
        "    return 1\n",
        "  else: \n",
        "    return (a+1) * factorial(n , a = a+1)\n",
        "\n",
        "def e_x(z,e = 1,counter = 1):\n",
        "  if power(z,counter) / factorial(counter) < 0.000001:\n",
        "    return e\n",
        "  else:\n",
        "    e += power(z,counter) / factorial(counter)\n",
        "    counter+=1\n",
        "    return  e_x(z,e,counter)\n",
        "print(e_x(x))"
      ],
      "metadata": {
        "id": "tRaZgBVX6iK9",
        "colab": {
          "base_uri": "https://localhost:8080/"
        },
        "outputId": "3cb599a0-8ece-4a9c-c83b-b19ddf0fabdf"
      }
    },
    {
      "cell_type": "markdown",
      "source": [
        "## Acknowledgements\n",
        "\n",
        "Redmond, Hsu, Saini, Gupta, Ramsey, Kondrich, Capoor, Cohen, Borus, Kincaid, Malik, and many others. - Stanford CS41"
      ],
      "metadata": {
        "collapsed": false,
        "id": "Wl9JCEYM6iK-"
      }
    },
    {
      "cell_type": "code",
      "execution_count": null,
      "outputs": [],
      "source": [],
      "metadata": {
        "id": "Bx-WQj4v6iK-"
      }
    }
  ],
  "metadata": {
    "kernelspec": {
      "display_name": "Python 3",
      "language": "python",
      "name": "python3"
    },
    "language_info": {
      "codemirror_mode": {
        "name": "ipython",
        "version": 2
      },
      "file_extension": ".py",
      "mimetype": "text/x-python",
      "name": "python",
      "nbconvert_exporter": "python",
      "pygments_lexer": "ipython2",
      "version": "2.7.6"
    },
    "colab": {
      "provenance": [],
      "toc_visible": true
    }
  },
  "nbformat": 4,
  "nbformat_minor": 0
}