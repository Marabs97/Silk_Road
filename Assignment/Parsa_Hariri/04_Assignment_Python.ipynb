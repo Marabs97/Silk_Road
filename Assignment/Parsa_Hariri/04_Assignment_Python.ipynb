{
  "cells": [
    {
      "cell_type": "markdown",
      "source": [
        "# Assignment 04\n",
        "#### Python Basics IV - Functions, Unity Testing, and Logging\n",
        "\n",
        "This tutorial was written by Terry L. Ruas (University of Göttingen). The references for external contributors for which this material was anyhow adapted/inspired are in the Acknowledgments section (end of the document)."
      ],
      "metadata": {
        "collapsed": false,
        "id": "_ikvQGPR7a99"
      }
    },
    {
      "cell_type": "markdown",
      "source": [
        "This notebook will cover the following tasks:\n",
        "\n",
        "1. Lambda functions\n",
        "2. List comprehensions\n",
        "3. Unity Test\n",
        "4. HTTP Request\n",
        "5. Logging\n",
        "6. Download File"
      ],
      "metadata": {
        "collapsed": false,
        "id": "SchiSV187a9-"
      }
    },
    {
      "cell_type": "markdown",
      "source": [
        "## Task 01 – Lambda functions\n",
        "Python supports lambda functions as a handy way to define small, anonymous, i.e., unnamed, functions inline. The basic syntax for lambda functions is:\n",
        "$$\n",
        " \\textbf{lambda}\\text{ parameter1, parameter2, ... : }\\textbf{expression}\n",
        "$$\n",
        "Use a lambda function only to retain the even values in an array of integers. Test your function with an input array of your choosing. Print the input array and the filtered output array to stdout."
      ],
      "metadata": {
        "collapsed": false,
        "id": "QOoNCxgu7a-A"
      }
    },
    {
      "cell_type": "code",
      "execution_count": null,
      "outputs": [
        {
          "output_type": "execute_result",
          "data": {
            "text/plain": [
              "[2, 4]"
            ]
          },
          "metadata": {},
          "execution_count": 18
        }
      ],
      "source": [
        "a = [1,2,3,4]\n",
        "list(filter(lambda x: (x%2 == 0) , a))"
      ],
      "metadata": {
        "id": "5keoJAOw7a-B",
        "colab": {
          "base_uri": "https://localhost:8080/"
        },
        "outputId": "ece9f9ff-aa45-4286-a994-93e5209bb252"
      }
    },
    {
      "cell_type": "markdown",
      "source": [
        "## Task 02 – List comprehensions\n",
        "Python supports list comprehension. The basic syntax of list comprehensions is:\n",
        "$$\n",
        "\\text{L = [<elem> for <elem> <Condition>]}\n",
        "$$\n",
        "Use list comprehensions to write a Python function *remove_long_words()* that:\n",
        "- accepts a sentence s and an integer n as input parameters\n",
        "- uses the *split()* function of String objects to split the sentence into words\n",
        "- stores the individual words in a list\n",
        "- removes all words that are longer than n characters from the list, thereby creating a new list\n",
        "- prints the list to stdout"
      ],
      "metadata": {
        "collapsed": false,
        "id": "XSyLzHT17a-B"
      }
    },
    {
      "cell_type": "code",
      "execution_count": null,
      "outputs": [
        {
          "output_type": "stream",
          "name": "stdout",
          "text": [
            "['ccmd', 'cmcdmcmdm']\n"
          ]
        }
      ],
      "source": [
        "def remove_long_words(sentence,n):\n",
        "  word_list = sentence.split()\n",
        "  word_list = [i for i in word_list if len(i) > n]\n",
        "  return word_list\n",
        "print(remove_long_words(\"ccmd cmcdmcmdm c\",3))"
      ],
      "metadata": {
        "id": "hT-mGe_T7a-B",
        "colab": {
          "base_uri": "https://localhost:8080/"
        },
        "outputId": "8f95d6a2-5db1-44f8-eb67-665abbd2468b"
      }
    },
    {
      "cell_type": "markdown",
      "source": [
        "## Task 03 – Unity Test\n",
        "The following algorithm in Python converts numbers in decimal representation to binary.\n",
        "1. Develop a unit test that checks for values in the interval \\[-1,3\\] whether the algorithm returns the\n",
        "expected results.\n",
        "2. Adjust the algorithm, so it passes the unit test developed in 1). Rename the function to\n",
        "*decimal_to_binary_correct()*"
      ],
      "metadata": {
        "collapsed": false,
        "id": "_QHEBddh7a-C"
      }
    },
    {
      "cell_type": "code",
      "execution_count": null,
      "outputs": [],
      "source": [
        "import math\n",
        "def decimal2binary(n):\n",
        "    return int(\"{:b}\".format(n))"
      ],
      "metadata": {
        "id": "IdFKIU4u7a-C"
      }
    },
    {
      "cell_type": "code",
      "execution_count": null,
      "outputs": [
        {
          "output_type": "stream",
          "name": "stdout",
          "text": [
            "well done , all test cases are right\n"
          ]
        }
      ],
      "source": [
        "def decimalUnityCheck():\n",
        "  dec_to_bi_dict = {-1 : -1 , 0: 0 , 1:1 , 2: 10 , 3:11}\n",
        "  inter = [x for x in range(-1,3)]\n",
        "  wrong_answer = 0\n",
        "  for i in inter: \n",
        "    if decimal2binary(i) !=  dec_to_bi_dict[i]:\n",
        "      wrong_answer+=1\n",
        "  if wrong_answer == 0:\n",
        "    print(\"well done , all test cases are right\")\n",
        "  else:\n",
        "    print(wrong_answer,\"test case are wrong\")\n",
        "decimalUnityCheck()"
      ],
      "metadata": {
        "id": "McO91gqP7a-D",
        "colab": {
          "base_uri": "https://localhost:8080/"
        },
        "outputId": "03059dfb-0327-43e7-f5a9-377bf4c3ca1f"
      }
    },
    {
      "cell_type": "markdown",
      "source": [
        "## Task 04 – HTTP Request\n",
        "Working with HTTP connections is essential for many data gathering tasks. The Python library *urllib* provides all functionality we need.\n",
        "Write a Python function *open_url(url)* that:\n",
        "- uses urllib to establish a HTTP connection to an arbitrary website\n",
        "- retrieves and prints the first 200 characters of the html resource, i.e. the html source code, of the chosen website\n",
        "- handles the exceptions thrown by the *urllib.request* function\n",
        "\n",
        "FYI: The basic syntax for exception handling in Python is as follows:\n",
        "```\n",
        "try:\n",
        "    ...\n",
        "    return ...\n",
        "except SomeError1 as e:\n",
        "    # error-specific exception handling\n",
        "except SomeError2 as e:\n",
        "    # error-specific exception handling\n",
        "except\n",
        "    # general exception handling\n",
        "```"
      ],
      "metadata": {
        "collapsed": false,
        "id": "iNLOQ5y47a-E"
      }
    },
    {
      "cell_type": "code",
      "execution_count": null,
      "outputs": [],
      "source": [
        "import logging\n",
        "import urllib.request\n",
        "def open_url(url):\n",
        "  try:\n",
        "    with urllib.request.urlopen(url) as response:\n",
        "      html = response.read()\n",
        "      return html\n",
        "  except urllib.error.URLError as e:\n",
        "    logging.error(e.reason)\n",
        "  except TypeError as x:\n",
        "    return \"An exception occurred\"\n",
        "\n",
        "#print(open_url('http://c.org/')[:200])\n"
      ],
      "metadata": {
        "id": "NaCXxVlB7a-E"
      }
    },
    {
      "cell_type": "markdown",
      "source": [
        "## Task 05 – Logging\n",
        "The logging module in Python provides functionality for logging and debugging purposes. Use the logging module to extend the error handling for the function that you implemented to establish a HTTP connection (Task 4). All exceptions thrown by your function shall be logged as errors.\n",
        "\n",
        "To accomplish the task:\n",
        "- write a Python function *init_log(file_name, file_mode, level, format, date_format)* that initializes a custom log file to which all debugging information and errors are appended using a format that includes the date, time, level and the message of the logging event\n",
        "- log occurring errors by calling *logging.error(...)*\n",
        "- close the log after completing your task by calling *logging.shutdown()*\n",
        "\n",
        "If you choose not to complete Tasks 4, test the logging functionality with a few examples of your own."
      ],
      "metadata": {
        "collapsed": false,
        "id": "ogac-RcI7a-F"
      }
    },
    {
      "cell_type": "code",
      "execution_count": null,
      "outputs": [],
      "source": [
        "import logging \n",
        "def init_log(file_name, file_mode, level, format, date_format):\n",
        "  log = logging.getLogger()\n",
        "  log.setLevel(logging.INFO)\n",
        "  fh = logging.FileHandler(filename= file_name + '.log')\n",
        "  fh.setLevel(logging.INFO)\n",
        "  logging.basicConfig(file_name= file_name, file_mode=file_mode, level =level,format= format, date_format=date_format)\n",
        "  logging.shutdown()\n",
        "\n",
        "init_log('test', 'a',30,'levelname','%')\n",
        "#print(open_url('http://python.org/')[:200])\n"
      ],
      "metadata": {
        "id": "hT8RvjYU7a-F"
      }
    },
    {
      "cell_type": "markdown",
      "source": [
        "## Task 06 – Download File\n",
        "In Task 4, you used the *urllib* library to establish a http connection. You can also use the *urllib* library to perform simple file downloads.\n",
        "\n",
        "Write a Python function *download_file(url, path)* that:\n",
        "- checks whether the input URL points to a .txt file\n",
        "- if the input URL points to a .txt file, uses the *urllib* library to download and write the text file to the given path on your machine\n",
        "- logs an error “No text file found at given URL, download aborted!” to the log file created in Task 5 if the input URL does not point to a .txt file.\n",
        "- properly handles exceptions\n",
        "\n",
        "Use the *download_file()* function to download William Shakespeare’s drama Macbeth as a plain\n",
        "text file from: [Macbeth](https://ia802707.us.archive.org/1/items/macbeth02264gut/0ws3410.txt)"
      ],
      "metadata": {
        "collapsed": false,
        "id": "FFvlZPUc7a-G"
      }
    },
    {
      "cell_type": "code",
      "execution_count": 18,
      "outputs": [],
      "source": [
        "from os import execlp\n",
        "import urllib.request\n",
        "\n",
        "def download_file(url, path):\n",
        "  try:     \n",
        "    if url[-4:] == \".txt\":\n",
        "      urllib.request.urlretrieve(url, path)\n",
        "    else: \n",
        "      raise NameError('URL name wrong name') \n",
        "  except:\n",
        "    return \"No text file found at given URL, download aborted!\"\n",
        "download_file('https://ia802707.us.archive.org/1/items/macbeth02264gut/0ws3410.txt','p')"
      ],
      "metadata": {
        "id": "3L-DwhcZ7a-G"
      }
    }
  ],
  "metadata": {
    "kernelspec": {
      "display_name": "Python 3",
      "language": "python",
      "name": "python3"
    },
    "language_info": {
      "codemirror_mode": {
        "name": "ipython",
        "version": 2
      },
      "file_extension": ".py",
      "mimetype": "text/x-python",
      "name": "python",
      "nbconvert_exporter": "python",
      "pygments_lexer": "ipython2",
      "version": "2.7.6"
    },
    "colab": {
      "provenance": []
    }
  },
  "nbformat": 4,
  "nbformat_minor": 0
}