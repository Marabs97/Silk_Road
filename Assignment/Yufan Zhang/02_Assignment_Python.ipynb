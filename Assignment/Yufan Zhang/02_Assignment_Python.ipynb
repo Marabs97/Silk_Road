{
  "cells": [
    {
      "cell_type": "markdown",
      "source": [
        "# Assignment 02\n",
        "##### Python Basics II\n",
        "\n",
        "This tutorial was written by Terry Ruas (University of Göttingen); The references for external contributors for which this material was anyhow adapted/inspired are in the Acknowledgments section (end of the document).\n"
      ],
      "metadata": {
        "collapsed": false,
        "id": "LZgQdr4W6iKz"
      }
    },
    {
      "cell_type": "markdown",
      "source": [
        "This notebook will cover the following tasks:\n",
        "\n",
        "1. String Length\n",
        "2. Largest List Element\n",
        "3. Character Frequency\n",
        "4. Sorted List of Tuples\n",
        "5. Check Brackets\n",
        "6. Check Brackets II\n",
        "7. Queue\n",
        "8. Unlimited Power\n",
        "9. Unlimited Power II"
      ],
      "metadata": {
        "collapsed": false,
        "id": "Yvektzz_6iK1"
      }
    },
    {
      "cell_type": "markdown",
      "source": [
        "## Task 01 – String Length\n",
        "Write a program that reads in a string and prints the length of the input string. Do not use any built-in functions of Python, such as len().\n",
        "For example, if the input is “Computer Science”, the output should be length: 16."
      ],
      "metadata": {
        "collapsed": false,
        "id": "4GPUv_8U6iK1"
      }
    },
    {
      "cell_type": "code",
      "execution_count": 1,
      "outputs": [
        {
          "output_type": "stream",
          "name": "stdout",
          "text": [
            "please text: Computer Science\n",
            "16\n"
          ]
        }
      ],
      "source": [
        "sentence = input(\"please text: \")\n",
        "len_sentence = 0\n",
        "for i in sentence:\n",
        "    len_sentence += 1\n",
        "print(len_sentence)"
      ],
      "metadata": {
        "id": "xt3XV0YD6iK2",
        "colab": {
          "base_uri": "https://localhost:8080/"
        },
        "outputId": "ed07698e-1b87-414f-c026-139f82a61f21"
      }
    },
    {
      "cell_type": "markdown",
      "source": [
        "## Task 02 – Largest List Element\n",
        "Write a program that generates a list of 10 random integers between 1 and 100 and then finds and prints the largest element in the list. Do not use the built-in function max().\n",
        "For example, if the input is [23,3,42,29,12,15,8,4,37,34], the output should be the largest element: 42.\n",
        "\n",
        "Hint: Check out the module [random](https://docs.python.org/3.7/library/random.html)."
      ],
      "metadata": {
        "collapsed": false,
        "id": "_Jz4T4AQ6iK3"
      }
    },
    {
      "cell_type": "code",
      "execution_count": 3,
      "outputs": [
        {
          "output_type": "stream",
          "name": "stdout",
          "text": [
            "[8, 22, 99, 47, 93, 22, 89, 38, 9, 33]\n",
            "99\n"
          ]
        }
      ],
      "source": [
        "import random\n",
        "numbers = list(random.randint(0,100) for i in range(10))\n",
        "print(numbers)\n",
        "maximum = 0\n",
        "for i in numbers:\n",
        "    if i > maximum:\n",
        "        maximum = i\n",
        "print(maximum)"
      ],
      "metadata": {
        "id": "aKLGcZ0_6iK3",
        "colab": {
          "base_uri": "https://localhost:8080/"
        },
        "outputId": "a04c0f5a-a061-415e-9c61-34fe65fa51e9"
      }
    },
    {
      "cell_type": "markdown",
      "source": [
        "## Task 03 – Character Frequency\n",
        "Write a program that:\n",
        "* Reads in a string and removes any spaces from the string\n",
        "* Counts how often individual characters occur in the string\n",
        "* Stores the information on character occurrence frequency in a dictionary\n",
        "* Prints the dictionary.\n",
        "\n",
        "For example, if the input is “santa claus”, the output should be:\n",
        "{'s': 2, 'a': 3, 'n': 1, 't': 1, 'c': 1, 'l': 1, 'u': 1}."
      ],
      "metadata": {
        "collapsed": false,
        "id": "PalhJ9x36iK4"
      }
    },
    {
      "cell_type": "code",
      "execution_count": 4,
      "outputs": [
        {
          "output_type": "stream",
          "name": "stdout",
          "text": [
            "please enter a sentence:santa claus\n",
            "{'s': 2, 'a': 3, 'n': 1, 't': 1, 'c': 1, 'l': 1, 'u': 1}\n"
          ]
        }
      ],
      "source": [
        "import collections\n",
        "sentence = input(\"please enter a sentence:\")\n",
        "sentence = ''.join(sentence.split())\n",
        "counter = collections.Counter(sentence)\n",
        "d = {}\n",
        "for i in sentence:\n",
        "    d[i] = counter[i]\n",
        "print(d)"
      ],
      "metadata": {
        "id": "vm5UlcKB6iK4",
        "colab": {
          "base_uri": "https://localhost:8080/"
        },
        "outputId": "ecb7558a-eea3-4af0-a267-5f91b82f6286"
      }
    },
    {
      "cell_type": "markdown",
      "source": [
        "## Task 04 – Sorted List of Tuples\n",
        "Write a program that:\n",
        "* Generates a list of 10 tuples, each tuple consisting of 3 random integers between 1 and 100\n",
        "* Sorts the list of tuples in increasing order of the third element in each tuple\n",
        "* Prints the sorted list of tuples\n",
        "\n",
        "For example, if the generated input list is: [(56, 77, 69), (43, 30, 38), (2, 77, 101), (93, 57, 4), (74, 21, 77), (39, 68, 68), (65, 53, 96), (16, 29, 88), (88, 70, 38)]\n",
        "The output should be: [(93, 57, 4), (43, 30, 38), (88, 70, 38), (39, 68, 68), (56, 77, 69), (74, 21, 77), (16, 29, 88), (65, 53, 96), (2, 77, 101)]\n",
        "\n",
        "Hint: You are allowed and encouraged to use built-in functions, such as [sorted()](https://docs.python.org/3.7/library/functions.html?highlight=sorted#sorted), for this task."
      ],
      "metadata": {
        "collapsed": false,
        "id": "JV1Mm9qA6iK5"
      }
    },
    {
      "cell_type": "code",
      "execution_count": 5,
      "outputs": [
        {
          "output_type": "stream",
          "name": "stdout",
          "text": [
            "[(42, 92, 20), (69, 68, 66), (45, 71, 56), (57, 51, 53), (64, 86, 34), (21, 81, 35), (25, 1, 25), (51, 78, 51), (7, 4, 81), (67, 36, 58)]\n",
            "[(42, 92, 20), (25, 1, 25), (64, 86, 34), (21, 81, 35), (51, 78, 51), (57, 51, 53), (45, 71, 56), (67, 36, 58), (69, 68, 66), (7, 4, 81)]\n"
          ]
        }
      ],
      "source": [
        "generate_list = list(tuple(random.randint(0,100) for i in range(3)) for j in range(10))\n",
        "print(generate_list)\n",
        "sorted_list = sorted(generate_list, key=lambda x:x[2])\n",
        "print(sorted_list)"
      ],
      "metadata": {
        "id": "C3i7ctus6iK6",
        "colab": {
          "base_uri": "https://localhost:8080/"
        },
        "outputId": "703546ca-1728-46c6-e7eb-d2da182ccd9d"
      }
    },
    {
      "cell_type": "markdown",
      "source": [
        "## Task 05 – Check Brackets\n",
        "Write a program that reads in a string, which is supposed to be a mathematical expression. Focus on brackets only and check whether left and right brackets are composed correctly. Ignore all other characters (i.e. you don’t have to check correctness of operators and operands).\n",
        "Examples of correct input:\n",
        "* 3*(2+5)\n",
        "* ((()())())\n",
        "* (3+)(((4)))\n",
        "* Empty string\n",
        "\n",
        "Examples of incorrect input:\n",
        "* (3*(2+5)\n",
        "* ((()())(())\n",
        "* (3+)((4)))\n",
        "* ())(()\n"
      ],
      "metadata": {
        "collapsed": false,
        "id": "qz4P36Lz6iK6"
      }
    },
    {
      "cell_type": "code",
      "execution_count": 6,
      "outputs": [
        {
          "output_type": "stream",
          "name": "stdout",
          "text": [
            "enter the mathematical expression: (3*(2+5)\n",
            "this is not a right expression.\n"
          ]
        }
      ],
      "source": [
        "determine = input(\"enter the mathematical expression: \")\n",
        "tmp = []\n",
        "for i in determine:\n",
        "    if i == '(':\n",
        "        tmp.append(i)\n",
        "    elif i == ')':\n",
        "        tmp.pop()\n",
        "if tmp==[]:\n",
        "    print(\"this is a right expression.\")\n",
        "else:\n",
        "    print(\"this is not a right expression.\")"
      ],
      "metadata": {
        "id": "2c67p_Zc6iK7",
        "colab": {
          "base_uri": "https://localhost:8080/"
        },
        "outputId": "f7aca116-6fd8-481b-bcce-9b4e7d0d88bd"
      }
    },
    {
      "cell_type": "markdown",
      "source": [
        "## Task 06 – Check Brackets II\n",
        "Extend previous program, so it can handle also square and curly brackets. Note that expressions in brackets cannot overlap. So, expression ```{[()()]([[]])}{}``` is correct, but expression ```([)]``` is not."
      ],
      "metadata": {
        "collapsed": false,
        "id": "k1kh3odh6iK7"
      }
    },
    {
      "cell_type": "code",
      "execution_count": 7,
      "outputs": [
        {
          "output_type": "stream",
          "name": "stdout",
          "text": [
            "enter the mathematical expression: {[()()]([[]])}{}\n",
            "this is a right expression.\n"
          ]
        }
      ],
      "source": [
        "BRACKET = {'}': '{', ')': '(', ']': '['}\n",
        "BRACKET_L, BRACKET_R = BRACKET.values(), BRACKET.keys()\n",
        "def Check_bracket(s):\n",
        "    tmp = []\n",
        "    for c in s:\n",
        "        if c in BRACKET_L:\n",
        "            tmp.append(c)\n",
        "        elif c in BRACKET_R:\n",
        "            if tmp and tmp[-1] == BRACKET[c]:\n",
        "                tmp.pop()\n",
        "            else:\n",
        "                return False\n",
        "    if tmp == []:\n",
        "        return True\n",
        "    else:\n",
        "        return False\n",
        "determine = input(\"enter the mathematical expression: \")\n",
        "if Check_bracket(determine):\n",
        "    print(\"this is a right expression.\")\n",
        "else:\n",
        "    print(\"this is not a right expression.\")"
      ],
      "metadata": {
        "id": "2-UCbTRQ6iK7",
        "colab": {
          "base_uri": "https://localhost:8080/"
        },
        "outputId": "9f71f386-2b2a-47d9-d054-03bb8377fab6"
      }
    },
    {
      "cell_type": "markdown",
      "source": [
        "## Task 07 – Queue\n",
        "Write a program that simulates a queue. It will read strings from the input. Consider these inputs as names of people coming to the end of a queue. Whenever “next” is given as input, the program will print out the name on the turn. The program finishes as soon as the queue is empty."
      ],
      "metadata": {
        "collapsed": false,
        "id": "tc-8rPlP6iK7"
      }
    },
    {
      "cell_type": "code",
      "execution_count": null,
      "outputs": [],
      "source": [
        "?"
      ],
      "metadata": {
        "id": "X0o04N6s6iK7"
      }
    },
    {
      "cell_type": "markdown",
      "source": [
        "## Task 08 – Unlimited Power\n",
        "Write a function with two arguments – $x$ and $n$. The function returns the value of $x^n$. Use [recursion](https://realpython.com/python-thinking-recursively/#recursive-data-structures-in-python)."
      ],
      "metadata": {
        "collapsed": false,
        "id": "eIhaN3g36iK8"
      }
    },
    {
      "cell_type": "code",
      "execution_count": 8,
      "outputs": [],
      "source": [
        "def power(x, n):\n",
        "    if n < 0:\n",
        "        return power(1/x, -n)\n",
        "    if n == 0:\n",
        "        return 1\n",
        "    if n == 2:\n",
        "        return x * x\n",
        "    return power(power(x, n/2), 2) if not n % 2 else x * power(power(x, n//2), 2)"
      ],
      "metadata": {
        "id": "KSGHEAeL6iK8"
      }
    },
    {
      "cell_type": "markdown",
      "source": [
        "## Task 09 – Unlimited Power II\n",
        "Using function for factorial and function $x^n$ from previous task, write a program that reads value of $x$ and prints approximate value of $e^x$. Use this formula (Taylor series) for calculation\n",
        "$$ e^x = 1 + x + \\frac{x^2}{2!} + \\frac{x^3}{3!} + ... + \\frac{x^n}{n!} $$\n",
        "\n",
        "To get precise value of $e^x$, the series would have to be infinite. Suppose that there is some required accuracy, so the calculation finishes as soon as the value of the next element is smaller than given threshold (e.g., 0.000001)."
      ],
      "metadata": {
        "collapsed": false,
        "id": "WBh2WBXY6iK8"
      }
    },
    {
      "cell_type": "code",
      "execution_count": 10,
      "outputs": [
        {
          "output_type": "stream",
          "name": "stdout",
          "text": [
            "enter the value of x: 12\n",
            "162754.79141842763\n"
          ]
        }
      ],
      "source": [
        "def factorial(x):\n",
        "    fac = 1\n",
        "    for i in range(1,x+1):\n",
        "        fac = fac*i\n",
        "    return fac\n",
        "\n",
        "x = int(input(\"enter the value of x: \"))\n",
        "tmp = 1\n",
        "i = 1\n",
        "while power(x,i)/factorial(i)>0.000001:\n",
        "    tmp = tmp + (power(x,i)/factorial(i))\n",
        "    i += 1\n",
        "print(tmp)"
      ],
      "metadata": {
        "id": "tRaZgBVX6iK9",
        "colab": {
          "base_uri": "https://localhost:8080/"
        },
        "outputId": "7b0122ef-273f-4313-b526-b94734acd621"
      }
    },
    {
      "cell_type": "markdown",
      "source": [
        "## Acknowledgements\n",
        "\n",
        "Redmond, Hsu, Saini, Gupta, Ramsey, Kondrich, Capoor, Cohen, Borus, Kincaid, Malik, and many others. - Stanford CS41"
      ],
      "metadata": {
        "collapsed": false,
        "id": "Wl9JCEYM6iK-"
      }
    },
    {
      "cell_type": "code",
      "execution_count": null,
      "outputs": [],
      "source": [],
      "metadata": {
        "id": "Bx-WQj4v6iK-"
      }
    }
  ],
  "metadata": {
    "kernelspec": {
      "display_name": "Python 3",
      "language": "python",
      "name": "python3"
    },
    "language_info": {
      "codemirror_mode": {
        "name": "ipython",
        "version": 2
      },
      "file_extension": ".py",
      "mimetype": "text/x-python",
      "name": "python",
      "nbconvert_exporter": "python",
      "pygments_lexer": "ipython2",
      "version": "2.7.6"
    },
    "colab": {
      "provenance": []
    }
  },
  "nbformat": 4,
  "nbformat_minor": 0
}