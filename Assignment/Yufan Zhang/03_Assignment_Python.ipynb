{
  "cells": [
    {
      "cell_type": "markdown",
      "source": [
        "# Assignment 03\n",
        "#### Python Basics III - Functions and Classes\n",
        "\n",
        "This tutorial was written by Terry L. Ruas (University of Göttingen). The references for external contributors for which this material was anyhow adapted/inspired are in the Acknowledgments section (end of the document)."
      ],
      "metadata": {
        "collapsed": false,
        "id": "3i7Q6MM_7a82"
      }
    },
    {
      "cell_type": "markdown",
      "source": [
        "This notebook will cover the following tasks:\n",
        "\n",
        "1. Dictionary\n",
        "2. Classes"
      ],
      "metadata": {
        "collapsed": false,
        "id": "eKtTDCOS7a83"
      }
    },
    {
      "cell_type": "markdown",
      "source": [
        "## Task 01 – Dictionary\n",
        "Imagine you have to write a (very simple) bookkeepingsystem for a bank that keeps track of the account balances of each of its customers.\n",
        "1. Write a function that spans a dictionary holding a default balance of 0 for an initial list of customers. For simplicity, assume customer names are unique identifier.  (optional) Can you express that same functionality using a lambda function?\n",
        "2. What are elegant ways to add or remove single and multiple customers using the functionality of dict?\n",
        "3. Now write two simple functions that allow you to deposit and withdraw money for a given bank customer.\n",
        "4. Include error messages for inputs that are not permissible, e.g., withdrawing negative amounts or overdrawing the account, etc."
      ],
      "metadata": {
        "collapsed": false,
        "id": "XumFInmh7a85"
      }
    },
    {
      "cell_type": "code",
      "source": [
        "def initialAccount(customlist):\n",
        "  databaseDict = {}\n",
        "  for custom in customlist:\n",
        "    databaseDict[custom] = 0\n",
        "  return databaseDict"
      ],
      "metadata": {
        "id": "Mi0oVU-16nvp"
      },
      "execution_count": 1,
      "outputs": []
    },
    {
      "cell_type": "code",
      "source": [
        "customlist = [\"first\",\"second\",\"third\",\"forth\"]\n",
        "database = initialAccount(customlist)\n",
        "print(database)"
      ],
      "metadata": {
        "colab": {
          "base_uri": "https://localhost:8080/"
        },
        "id": "ZsoKPh-e6n9U",
        "outputId": "becb23c0-f075-4d51-b842-2813ae512837"
      },
      "execution_count": 11,
      "outputs": [
        {
          "output_type": "stream",
          "name": "stdout",
          "text": [
            "{'first': 0, 'second': 0, 'third': 0, 'forth': 0}\n"
          ]
        }
      ]
    },
    {
      "cell_type": "code",
      "source": [
        "def balanceIn(custom, amount, databaseDict):\n",
        "  if amount>=0:\n",
        "    databaseDict[custom] += amount\n",
        "    print(\"successful deposit the money\")\n",
        "  else:\n",
        "    print(\"Error with the amount of money.\")\n",
        "def balanceOut(custom, amount, databaseDict):\n",
        "  storage = databaseDict[custom]\n",
        "  if amount>storage:\n",
        "    print(\"There is no enough money in the account.\")\n",
        "  elif amount<0:\n",
        "    print(\"Error with the amount of money\")\n",
        "  else:\n",
        "    databaseDict[custom] -= amount\n",
        "    print(\"successful withdraw the money.\")\n"
      ],
      "metadata": {
        "id": "2uSwq7p36n_j"
      },
      "execution_count": 8,
      "outputs": []
    },
    {
      "cell_type": "code",
      "source": [
        "balanceIn(\"first\",200,database)\n",
        "balanceIn(\"second\",100,database)\n",
        "balanceIn(\"third\",50,database)\n",
        "balanceIn(\"forth\",500,database)\n",
        "print(database)"
      ],
      "metadata": {
        "colab": {
          "base_uri": "https://localhost:8080/"
        },
        "id": "c9GTA7YL6oC4",
        "outputId": "c278d5e3-5d9d-4dee-e522-10fc4ea30f39"
      },
      "execution_count": 12,
      "outputs": [
        {
          "output_type": "stream",
          "name": "stdout",
          "text": [
            "successful deposit the money\n",
            "successful deposit the money\n",
            "successful deposit the money\n",
            "successful deposit the money\n",
            "{'first': 200, 'second': 100, 'third': 50, 'forth': 500}\n"
          ]
        }
      ]
    },
    {
      "cell_type": "code",
      "source": [
        "balanceOut(\"first\",200,database)\n",
        "balanceOut(\"second\",20,database)\n",
        "balanceOut(\"third\",100,database)\n",
        "balanceOut(\"forth\",150,database)\n",
        "print(database)"
      ],
      "metadata": {
        "colab": {
          "base_uri": "https://localhost:8080/"
        },
        "id": "8Pao0Eq--zBu",
        "outputId": "a47fb841-7860-4ad7-c53f-0d518ba9eecd"
      },
      "execution_count": 13,
      "outputs": [
        {
          "output_type": "stream",
          "name": "stdout",
          "text": [
            "successful withdraw the money.\n",
            "successful withdraw the money.\n",
            "There is no enough money in the account.\n",
            "successful withdraw the money.\n",
            "{'first': 0, 'second': 80, 'third': 50, 'forth': 350}\n"
          ]
        }
      ]
    },
    {
      "cell_type": "markdown",
      "source": [
        "\n",
        "## Task 02 – Classes\n",
        "The manager thinks that the simple bookkeeping system you have built is not powerful enough. She requests that you start from scratch and use classes instead.\n",
        "1. Write a simple class with appropriate constructor *\\_\\_init\\_\\_* that initializes an object of class *Customer* tracking the same information as in Task 01.\n",
        "2. Now write two simple methods for class *Customer* that allow you to deposit and withdraw money for a given customer object.\n",
        "3. Include error messages for inputs that are not permissible, e.g., withdrawing negative amounts or overdrawing the account.\n",
        "4. (Inheritance) Write a child class *SavingsCustomer* that inherits its features from the parent class *Customer*. A savings customer has an extra savings balance for receiving extra interest. The class should have a method to transfer money back and forth between the accounts' main balance as well as the savings balance. Do not forget to add reasonable error messages."
      ],
      "metadata": {
        "collapsed": false,
        "id": "9tMOI3tn7a86"
      }
    },
    {
      "cell_type": "code",
      "execution_count": 14,
      "outputs": [],
      "source": [
        "class Customer:\n",
        "  def __init__(self, balance):\n",
        "    self.balance = balance\n",
        "  def balanceIn(self, amount):\n",
        "    if amount>=0:\n",
        "      self.balance += amount\n",
        "      print(\"successful deposit the money\")\n",
        "    else:\n",
        "      print(\"Error with the amount of money.\")\n",
        "  def balanceOut(self, amount):\n",
        "    if amount>self.balance:\n",
        "      print(\"There is no enough money in the account.\")\n",
        "    elif amount<0:\n",
        "      print(\"Error with the amount of money\")\n",
        "    else:\n",
        "      self.balance -= amount\n",
        "      print(\"successful withdraw the money.\")"
      ],
      "metadata": {
        "id": "mcZ6wBOO7a86"
      }
    },
    {
      "cell_type": "code",
      "source": [
        "custom1 = Customer(0)\n",
        "custom1.balanceIn(300)\n",
        "custom1.balanceOut(50)\n",
        "print(custom1.balance)"
      ],
      "metadata": {
        "colab": {
          "base_uri": "https://localhost:8080/"
        },
        "id": "Mm2OGH0FAUXJ",
        "outputId": "571a5e5f-8d60-43cf-b86b-add64ec99390"
      },
      "execution_count": 15,
      "outputs": [
        {
          "output_type": "stream",
          "name": "stdout",
          "text": [
            "successful deposit the money\n",
            "successful withdraw the money.\n",
            "250\n"
          ]
        }
      ]
    }
  ],
  "metadata": {
    "kernelspec": {
      "display_name": "Python 3",
      "language": "python",
      "name": "python3"
    },
    "language_info": {
      "codemirror_mode": {
        "name": "ipython",
        "version": 2
      },
      "file_extension": ".py",
      "mimetype": "text/x-python",
      "name": "python",
      "nbconvert_exporter": "python",
      "pygments_lexer": "ipython2",
      "version": "2.7.6"
    },
    "colab": {
      "provenance": []
    }
  },
  "nbformat": 4,
  "nbformat_minor": 0
}