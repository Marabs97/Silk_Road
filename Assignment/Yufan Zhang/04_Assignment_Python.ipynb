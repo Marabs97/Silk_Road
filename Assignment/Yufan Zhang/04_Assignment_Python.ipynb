{
  "cells": [
    {
      "cell_type": "markdown",
      "source": [
        "# Assignment 04\n",
        "#### Python Basics IV - Functions, Unity Testing, and Logging\n",
        "\n",
        "This tutorial was written by Terry L. Ruas (University of Göttingen). The references for external contributors for which this material was anyhow adapted/inspired are in the Acknowledgments section (end of the document)."
      ],
      "metadata": {
        "collapsed": false,
        "id": "_ikvQGPR7a99"
      }
    },
    {
      "cell_type": "markdown",
      "source": [
        "This notebook will cover the following tasks:\n",
        "\n",
        "1. Lambda functions\n",
        "2. List comprehensions\n",
        "3. Unity Test\n",
        "4. HTTP Request\n",
        "5. Logging\n",
        "6. Download File"
      ],
      "metadata": {
        "collapsed": false,
        "id": "SchiSV187a9-"
      }
    },
    {
      "cell_type": "markdown",
      "source": [
        "## Task 01 – Lambda functions\n",
        "Python supports lambda functions as a handy way to define small, anonymous, i.e., unnamed, functions inline. The basic syntax for lambda functions is:\n",
        "$$\n",
        " \\textbf{lambda}\\text{ parameter1, parameter2, ... : }\\textbf{expression}\n",
        "$$\n",
        "Use a lambda function only to retain the even values in an array of integers. Test your function with an input array of your choosing. Print the input array and the filtered output array to stdout."
      ],
      "metadata": {
        "collapsed": false,
        "id": "QOoNCxgu7a-A"
      }
    },
    {
      "cell_type": "code",
      "execution_count": 1,
      "outputs": [
        {
          "output_type": "stream",
          "name": "stdout",
          "text": [
            "[0, 2, 4, 6, 8, 10, 12, 14, 16, 18, 20, 22, 24, 26, 28, 30, 32, 34, 36, 38, 40, 42, 44, 46, 48]\n"
          ]
        }
      ],
      "source": [
        "import numpy as np\n",
        "array = np.array(range(50))\n",
        "even = list(filter(lambda x:x%2==0, array))\n",
        "print(even)"
      ],
      "metadata": {
        "id": "5keoJAOw7a-B",
        "colab": {
          "base_uri": "https://localhost:8080/"
        },
        "outputId": "0d8b9291-4dbf-477a-a0f5-89e39a4e5f37"
      }
    },
    {
      "cell_type": "markdown",
      "source": [
        "## Task 02 – List comprehensions\n",
        "Python supports list comprehension. The basic syntax of list comprehensions is:\n",
        "$$\n",
        "\\text{L = [<elem> for <elem> <Condition>]}\n",
        "$$\n",
        "Use list comprehensions to write a Python function *remove_long_words()* that:\n",
        "- accepts a sentence s and an integer n as input parameters\n",
        "- uses the *split()* function of String objects to split the sentence into words\n",
        "- stores the individual words in a list\n",
        "- removes all words that are longer than n characters from the list, thereby creating a new list\n",
        "- prints the list to stdout"
      ],
      "metadata": {
        "collapsed": false,
        "id": "XSyLzHT17a-B"
      }
    },
    {
      "cell_type": "code",
      "execution_count": 2,
      "outputs": [
        {
          "output_type": "stream",
          "name": "stdout",
          "text": [
            "['hi', 'this']\n"
          ]
        }
      ],
      "source": [
        "def remove_long_words(s,n):\n",
        "    list = s.split(\" \")\n",
        "    new_list = list[:n]\n",
        "    return new_list\n",
        "print(remove_long_words(\"hi this is a test sentence\", 2))"
      ],
      "metadata": {
        "id": "hT-mGe_T7a-B",
        "colab": {
          "base_uri": "https://localhost:8080/"
        },
        "outputId": "8b7f4dcb-a65d-4b5c-ced4-4d1e99b4672e"
      }
    },
    {
      "cell_type": "markdown",
      "source": [
        "## Task 03 – Unity Test\n",
        "The following algorithm in Python converts numbers in decimal representation to binary.\n",
        "1. Develop a unit test that checks for values in the interval \\[-1,3\\] whether the algorithm returns the\n",
        "expected results.\n",
        "2. Adjust the algorithm, so it passes the unit test developed in 1). Rename the function to\n",
        "*decimal_to_binary_correct()*"
      ],
      "metadata": {
        "collapsed": false,
        "id": "_QHEBddh7a-C"
      }
    },
    {
      "cell_type": "code",
      "execution_count": 3,
      "outputs": [],
      "source": [
        "import math\n",
        "def decimal2binary(n):\n",
        "    # function to convert decimal integers to binary\n",
        "    x = []\n",
        "    while n > 0:\n",
        "        x.append(n % 2)\n",
        "        n = math.floor(n/2)\n",
        "    return x[::-1]"
      ],
      "metadata": {
        "id": "IdFKIU4u7a-C"
      }
    },
    {
      "cell_type": "code",
      "execution_count": 8,
      "outputs": [
        {
          "output_type": "stream",
          "name": "stdout",
          "text": [
            "it is incorrect\n"
          ]
        }
      ],
      "source": [
        "import random\n",
        "def test_result(n):\n",
        "    a = decimal2binary(n)\n",
        "    b = bin(n).replace('0b','')\n",
        "    if a==b:\n",
        "        return \"it is correct\"\n",
        "    else:\n",
        "        return \"it is incorrect\"\n",
        "value = random.randint(-1,3)\n",
        "print(test_result(value))"
      ],
      "metadata": {
        "id": "McO91gqP7a-D",
        "colab": {
          "base_uri": "https://localhost:8080/"
        },
        "outputId": "30c6b1a9-39d1-4a96-98c4-ac0199a82d7b"
      }
    },
    {
      "cell_type": "code",
      "source": [
        "def decimal_to_binary_correct(n):\n",
        "  # function to convert decimal integers to binary\n",
        "    x = []\n",
        "    cal = False\n",
        "    if n<0:\n",
        "        n=abs(n)\n",
        "        cal = True\n",
        "    while n > 0:\n",
        "        x.append(n % 2)\n",
        "        n = math.floor(n/2)\n",
        "    bin_list = x[::-1]\n",
        "    if cal:\n",
        "        bin_list.insert(0, '-')\n",
        "    res = ''.join(str(i) for i in bin_list)\n",
        "    return res\n",
        "print(bin(-535).replace('0b',''))\n",
        "print(decimal_to_binary_correct(-535))"
      ],
      "metadata": {
        "colab": {
          "base_uri": "https://localhost:8080/"
        },
        "id": "ZOnxUQTe73H3",
        "outputId": "78ad616a-c675-46d1-a49f-077527934e28"
      },
      "execution_count": 10,
      "outputs": [
        {
          "output_type": "stream",
          "name": "stdout",
          "text": [
            "-1000010111\n",
            "-1000010111\n"
          ]
        }
      ]
    },
    {
      "cell_type": "markdown",
      "source": [
        "## Task 04 – HTTP Request\n",
        "Working with HTTP connections is essential for many data gathering tasks. The Python library *urllib* provides all functionality we need.\n",
        "Write a Python function *open_url(url)* that:\n",
        "- uses urllib to establish a HTTP connection to an arbitrary website\n",
        "- retrieves and prints the first 200 characters of the html resource, i.e. the html source code, of the chosen website\n",
        "- handles the exceptions thrown by the *urllib.request* function\n",
        "\n",
        "FYI: The basic syntax for exception handling in Python is as follows:\n",
        "```\n",
        "try:\n",
        "    ...\n",
        "    return ...\n",
        "except SomeError1 as e:\n",
        "    # error-specific exception handling\n",
        "except SomeError2 as e:\n",
        "    # error-specific exception handling\n",
        "except\n",
        "    # general exception handling\n",
        "```"
      ],
      "metadata": {
        "collapsed": false,
        "id": "iNLOQ5y47a-E"
      }
    },
    {
      "cell_type": "code",
      "execution_count": 11,
      "outputs": [
        {
          "output_type": "stream",
          "name": "stdout",
          "text": [
            "b'<!DOCTYPE html>\\n<html class=\"client-nojs\" lang=\"en\" dir=\"ltr\">\\n<head>\\n<meta charset=\"UTF-8\"/>\\n<title>URL - Wikipedia</title>\\n<script>document.documentElement.className=\"client-js\";RLCONF={\"wgBreakFram'\n"
          ]
        }
      ],
      "source": [
        "import urllib.request\n",
        "import urllib.error\n",
        "url = \"https://en.wikipedia.org/wiki/URL\"\n",
        "\n",
        "def open_url(url):\n",
        "    try:\n",
        "        response = urllib.request.urlopen(url)\n",
        "        html = response.read()\n",
        "        return html[:200]\n",
        "    except urllib.error.URLError as e:\n",
        "        if hasattr(e,'code'):\n",
        "            return e.code\n",
        "        if hasattr(e,'reason'):\n",
        "            return e.reason\n",
        "print(open_url(url))"
      ],
      "metadata": {
        "id": "NaCXxVlB7a-E",
        "colab": {
          "base_uri": "https://localhost:8080/"
        },
        "outputId": "09233333-f949-45a0-9ccf-7fd463d4b878"
      }
    },
    {
      "cell_type": "markdown",
      "source": [
        "## Task 05 – Logging\n",
        "The logging module in Python provides functionality for logging and debugging purposes. Use the logging module to extend the error handling for the function that you implemented to establish a HTTP connection (Task 4). All exceptions thrown by your function shall be logged as errors.\n",
        "\n",
        "To accomplish the task:\n",
        "- write a Python function *init_log(file_name, file_mode, level, format, date_format)* that initializes a custom log file to which all debugging information and errors are appended using a format that includes the date, time, level and the message of the logging event\n",
        "- log occurring errors by calling *logging.error(...)*\n",
        "- close the log after completing your task by calling *logging.shutdown()*\n",
        "\n",
        "If you choose not to complete Tasks 4, test the logging functionality with a few examples of your own."
      ],
      "metadata": {
        "collapsed": false,
        "id": "ogac-RcI7a-F"
      }
    },
    {
      "cell_type": "code",
      "execution_count": null,
      "outputs": [],
      "source": [],
      "metadata": {
        "id": "hT8RvjYU7a-F"
      }
    },
    {
      "cell_type": "markdown",
      "source": [
        "## Task 06 – Download File\n",
        "In Task 4, you used the *urllib* library to establish a http connection. You can also use the *urllib* library to perform simple file downloads.\n",
        "\n",
        "Write a Python function *download_file(url, path)* that:\n",
        "- checks whether the input URL points to a .txt file\n",
        "- if the input URL points to a .txt file, uses the *urllib* library to download and write the text file to the given path on your machine\n",
        "- logs an error “No text file found at given URL, download aborted!” to the log file created in Task 5 if the input URL does not point to a .txt file.\n",
        "- properly handles exceptions\n",
        "\n",
        "Use the *download_file()* function to download William Shakespeare’s drama Macbeth as a plain\n",
        "text file from: [Macbeth](https://ia802707.us.archive.org/1/items/macbeth02264gut/0ws3410.txt)"
      ],
      "metadata": {
        "collapsed": false,
        "id": "FFvlZPUc7a-G"
      }
    },
    {
      "cell_type": "code",
      "execution_count": null,
      "outputs": [],
      "source": [
        "import os.path\n",
        "def download_file(url, path):\n",
        "    name = url.split('/')[-1]\n",
        "    local_file = os.path.join(path, name)\n",
        "    print(local_file)\n",
        "    if url[-4:]=='.txt':\n",
        "        urllib.request.urlretrieve(url, local_file)\n",
        "    else:\n",
        "        raise 'No text file found at given URL, download aborted!'\n",
        "\n",
        "download_file('https://ia802707.us.archive.org/1/items/macbeth02264gut/0ws3410.txt', path)"
      ],
      "metadata": {
        "id": "3L-DwhcZ7a-G"
      }
    }
  ],
  "metadata": {
    "kernelspec": {
      "display_name": "Python 3",
      "language": "python",
      "name": "python3"
    },
    "language_info": {
      "codemirror_mode": {
        "name": "ipython",
        "version": 2
      },
      "file_extension": ".py",
      "mimetype": "text/x-python",
      "name": "python",
      "nbconvert_exporter": "python",
      "pygments_lexer": "ipython2",
      "version": "2.7.6"
    },
    "colab": {
      "provenance": []
    }
  },
  "nbformat": 4,
  "nbformat_minor": 0
}