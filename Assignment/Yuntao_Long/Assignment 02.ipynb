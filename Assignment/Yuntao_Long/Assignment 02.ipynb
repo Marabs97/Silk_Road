{
 "cells": [
  {
   "cell_type": "code",
   "execution_count": 1,
   "metadata": {},
   "outputs": [
    {
     "name": "stdout",
     "output_type": "stream",
     "text": [
      "Computer Science\n",
      "16\n"
     ]
    }
   ],
   "source": [
    "#1 \n",
    "\n",
    "s=input()  # read a string\n",
    "\n",
    "length=0  \n",
    "\n",
    "# count the number of characters in a string, which is the length of the string\n",
    "for character in s:\n",
    "    length+=1\n",
    "    \n",
    "print(length)"
   ]
  },
  {
   "cell_type": "code",
   "execution_count": 3,
   "metadata": {},
   "outputs": [
    {
     "name": "stdout",
     "output_type": "stream",
     "text": [
      "[29, 71, 84, 54, 79, 55, 62, 99, 69, 52]\n",
      "99\n"
     ]
    }
   ],
   "source": [
    "#2 \n",
    "import random\n",
    "\n",
    "# produce a list of 10 random integers in [1,100]\n",
    "alist=[]\n",
    "for i in range(10):\n",
    "    x=random.randint(1,100)\n",
    "    alist.append(x)\n",
    "\n",
    "largest=alist[0]  # the largest element. let it be the first initially\n",
    "# visit each element to find the largest one\n",
    "for x in alist:\n",
    "    # if a larger element is found, update the largest value\n",
    "    if largest<x:\n",
    "        largest=x   \n",
    "    \n",
    "print(alist)\n",
    "print(largest)\n"
   ]
  },
  {
   "cell_type": "code",
   "execution_count": 4,
   "metadata": {},
   "outputs": [
    {
     "name": "stdout",
     "output_type": "stream",
     "text": [
      "santa claus\n",
      "{'s': 2, 'a': 3, 'n': 1, 't': 1, 'c': 1, 'l': 1, 'u': 1}\n"
     ]
    }
   ],
   "source": [
    "#3\n",
    "s=input()  # read a string\n",
    "\n",
    "fre={}  # the frequency dictionary\n",
    "s=s.replace(\" \",\"\")  # remove all spaces\n",
    "\n",
    "# check each character in the string\n",
    "for x in s:\n",
    "    # if the character occurs for the first time, the frequency is 1\n",
    "    if x not in fre:\n",
    "        fre[x]=1\n",
    "    # if the character has occurred before, the frequency increases by 1\n",
    "    else:\n",
    "        fre[x]+=1\n",
    "        \n",
    "print(fre)\n"
   ]
  },
  {
   "cell_type": "code",
   "execution_count": 5,
   "metadata": {},
   "outputs": [
    {
     "name": "stdout",
     "output_type": "stream",
     "text": [
      "[(89, 89, 1), (43, 52, 42), (14, 25, 66), (51, 38, 68), (17, 6, 73), (81, 64, 82), (45, 80, 89), (10, 3, 90), (9, 1, 92), (81, 100, 97)]\n"
     ]
    }
   ],
   "source": [
    "#4 \n",
    "import random\n",
    "\n",
    "# Generates a list of 10 tuples, each tuple consisting of 3 random integers between 1 and 100\n",
    "alist=[]\n",
    "for i in range(10):\n",
    "    t=(random.randint(1,100),random.randint(1,100),random.randint(1,100))\n",
    "    alist.append(t)\n",
    "\n",
    "# Sorts the list of tuples in increasing order of the third element in each tuple\n",
    "alist.sort(key=lambda x:x[2])\n",
    "\n",
    "print(alist)"
   ]
  },
  {
   "cell_type": "code",
   "execution_count": 7,
   "metadata": {},
   "outputs": [
    {
     "name": "stdout",
     "output_type": "stream",
     "text": [
      "((()())(())\n",
      "incorrect\n"
     ]
    },
    {
     "data": {
      "text/plain": [
       "False"
      ]
     },
     "execution_count": 7,
     "metadata": {},
     "output_type": "execute_result"
    }
   ],
   "source": [
    "#5\n",
    "s=input()  # read a string\n",
    "\n",
    "def checkbrackets(s):\n",
    "    num=0 # the number of unpaired \"(\"\n",
    "\n",
    "    # check each character to verify \n",
    "    for x in s:\n",
    "        # if a new \"(\", the number of unpaired \"(\" increases by 1\n",
    "        if x==\"(\":\n",
    "            num+=1\n",
    "        # if a new \")\"\n",
    "        elif x==\")\":\n",
    "            # but no remaining \"(\" to pair with, the expression is invalid\n",
    "            if num==0:\n",
    "                print(\"incorrect\")\n",
    "                return False   # no need to check the next characters\n",
    "            # pair with a \"(\", the number of unpaired \"(\" decreases by 1\n",
    "            else:\n",
    "                num-=1\n",
    "    \n",
    "    # all \"(\" should be paired after traversal\n",
    "    if num==0:\n",
    "        print(\"correct\")\n",
    "        return True\n",
    "    else:\n",
    "        print(\"incorrect\")\n",
    "        return False\n",
    "\n",
    "checkbrackets(s)   "
   ]
  },
  {
   "cell_type": "code",
   "execution_count": 18,
   "metadata": {},
   "outputs": [
    {
     "name": "stdout",
     "output_type": "stream",
     "text": [
      "{[()()]([[]])}{}\n",
      "CORRECT\n"
     ]
    }
   ],
   "source": [
    "#6\n",
    "text=input()  # read a string\n",
    "\n",
    "def checkbrackets2(s):\n",
    "    opens = {'round':0, 'square':0, 'curly':0}\n",
    "    last_open = []   # memorize of sequence of ([{\n",
    "    brackets = '()[]{}'\n",
    "    for letter in text:\n",
    "        if letter not in brackets:\n",
    "            continue\n",
    "        if letter == '(':\n",
    "            opens['round'] += 1\n",
    "            last_open.append('round')\n",
    "        if letter == ')':\n",
    "            opens['round'] -= 1\n",
    "            if last_open[-1]!= 'round':\n",
    "                print('ERROR')\n",
    "                return    # no need to check the next characters\n",
    "            else:\n",
    "                last_open.pop()  # move one step back\n",
    "        if letter == '[':\n",
    "            opens['square'] += 1\n",
    "            last_open.append('square')\n",
    "        if letter == ']':\n",
    "            opens['square'] -= 1\n",
    "            if last_open[-1] != 'square':\n",
    "                print('ERROR')\n",
    "                return    # no need to check the next characters\n",
    "            else:\n",
    "                last_open.pop()  # move one step back\n",
    "\n",
    "        if letter == '{':\n",
    "            opens['curly'] += 1\n",
    "            last_open.append('curly')\n",
    "        if letter == '}':\n",
    "            opens['curly'] -= 1\n",
    "            if last_open[-1] != 'curly':\n",
    "                print('ERROR')\n",
    "                return    # no need to check the next characters\n",
    "            else:\n",
    "                last_open.pop()  # move one step back\n",
    "\n",
    "        if -1 in opens.values():\n",
    "            print('ERROR')\n",
    "            return\n",
    "\n",
    "    # a valid expression should have no ([{ left in the end\n",
    "    if len(last_open)==0:\n",
    "        print(\"CORRECT\")\n",
    "    else:\n",
    "        print('ERROR')\n",
    "        \n",
    "checkbrackets2(s)"
   ]
  },
  {
   "cell_type": "code",
   "execution_count": 19,
   "metadata": {},
   "outputs": [
    {
     "name": "stdout",
     "output_type": "stream",
     "text": [
      "Tom\n",
      "Jerry\n",
      "Dog\n",
      "next\n",
      "Tom\n",
      "next\n",
      "Jerry\n",
      "Snoopy\n",
      "next\n",
      "Dog\n",
      "next\n",
      "Snoopy\n"
     ]
    }
   ],
   "source": [
    "#7\n",
    "queue=[]\n",
    "while 1:\n",
    "    name=input(\"\")\n",
    "    #  print out the name on the turn\n",
    "    if name==\"next\":\n",
    "        # no person\n",
    "        if len(queue)==0:\n",
    "            print(\"ERROR: no person in the queue\")\n",
    "            break\n",
    "        # print \n",
    "        out=queue.pop(0)\n",
    "        print(out)\n",
    "    # people come to the end of the queue\n",
    "    else:\n",
    "        queue.append(name)\n",
    "    # finishes as soon as the queue is empty\n",
    "    if len(queue)==0:\n",
    "        break\n",
    "        "
   ]
  },
  {
   "cell_type": "code",
   "execution_count": 26,
   "metadata": {},
   "outputs": [
    {
     "name": "stdout",
     "output_type": "stream",
     "text": [
      "0.0625\n"
     ]
    }
   ],
   "source": [
    "#8: assume n is an integer\n",
    "\n",
    "def unlimitedpower(x,n):\n",
    "    # 1^n=1\n",
    "    if x==1:\n",
    "        return 1\n",
    "    # 0^0 \n",
    "    if x==0 and n==0:\n",
    "        return \"ERROR\"\n",
    "    # x^0=1 \n",
    "    if n==0:\n",
    "        return 1\n",
    "    # n is positive, decrease the exponent by 1\n",
    "    elif n>0:\n",
    "        return x*unlimitedpower(x,n-1)\n",
    "    # n is negative, increase the exponent by 1\n",
    "    else:\n",
    "        return 1/x*unlimitedpower(x,n+1)\n",
    "\n",
    "x=2\n",
    "n=-4\n",
    "res=unlimitedpower(x,n)\n",
    "print(res)\n",
    "    "
   ]
  },
  {
   "cell_type": "code",
   "execution_count": 42,
   "metadata": {},
   "outputs": [
    {
     "name": "stdout",
     "output_type": "stream",
     "text": [
      "22026.465793823776\n"
     ]
    }
   ],
   "source": [
    "#9\n",
    "\n",
    "def expvalue(x):\n",
    "    res=0 \n",
    "    factorial=1 # denominator of each item\n",
    "    n=0\n",
    "    while 1:\n",
    "        item=unlimitedpower(x,n)/factorial\n",
    "        #  finishes as soon as the value of the next element is smaller than given threshold\n",
    "        if item< 0.000001:\n",
    "            return res\n",
    "        # add one more element\n",
    "        else:\n",
    "            res=res+item   \n",
    "            n+=1  # next n\n",
    "            factorial*=n  # next denominator\n",
    "\n",
    "x=10\n",
    "res=expvalue(x)\n",
    "print(res)\n",
    "    "
   ]
  },
  {
   "cell_type": "code",
   "execution_count": null,
   "metadata": {},
   "outputs": [],
   "source": []
  }
 ],
 "metadata": {
  "kernelspec": {
   "display_name": "Python 3",
   "language": "python",
   "name": "python3"
  },
  "language_info": {
   "codemirror_mode": {
    "name": "ipython",
    "version": 3
   },
   "file_extension": ".py",
   "mimetype": "text/x-python",
   "name": "python",
   "nbconvert_exporter": "python",
   "pygments_lexer": "ipython3",
   "version": "3.7.3"
  }
 },
 "nbformat": 4,
 "nbformat_minor": 2
}
