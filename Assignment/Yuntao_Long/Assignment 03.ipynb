{
 "cells": [
  {
   "cell_type": "markdown",
   "metadata": {},
   "source": [
    "Task 01 – Dictionary"
   ]
  },
  {
   "cell_type": "code",
   "execution_count": 55,
   "metadata": {},
   "outputs": [
    {
     "data": {
      "text/plain": [
       "{'alice': 0, 'bob': 0, 'cecile': 0}"
      ]
     },
     "execution_count": 55,
     "metadata": {},
     "output_type": "execute_result"
    }
   ],
   "source": [
    "#initial list of customers\n",
    "customers = ['alice','bob','cecile']\n",
    "\n",
    "# make a dict with balance 0 for each customer\n",
    "def initiaslise_balance(cust):\n",
    "    b = {c: 0 for c in cust}\n",
    "    return b\n",
    "balance = initiaslise_balance(customers)\n",
    "\n",
    "#optional: lambda calc way to initialise dict  \n",
    "alt_balance =  dict(map((lambda x: (x,0)), customers))\n",
    "alt_balance"
   ]
  },
  {
   "cell_type": "code",
   "execution_count": 56,
   "metadata": {},
   "outputs": [
    {
     "name": "stdout",
     "output_type": "stream",
     "text": [
      "{'alice': 0, 'bob': 0, 'cecile': 0, 'david': 0}\n",
      "{'alice': 0, 'bob': 0, 'cecile': 0}\n"
     ]
    }
   ],
   "source": [
    "#single:\n",
    "\n",
    "#add\n",
    "new_user = 'david'\n",
    "balance[new_user] = 0\n",
    "print(balance)\n",
    "\n",
    "#remove\n",
    "balance.pop(new_user,'Warning: user did not exist!')\n",
    "print(balance)"
   ]
  },
  {
   "cell_type": "code",
   "execution_count": 57,
   "metadata": {},
   "outputs": [
    {
     "name": "stdout",
     "output_type": "stream",
     "text": [
      "{'alice': 0, 'bob': 0, 'cecile': 0, 'david': 0, 'ethan': 0, 'fiona': 0}\n",
      "{'alice': 0, 'bob': 0, 'cecile': 0}\n"
     ]
    }
   ],
   "source": [
    "#multiple: same, but with dict comp\n",
    "\n",
    "#add\n",
    "new_users = ['david','ethan','fiona']\n",
    "balance.update({c:0 for c in new_users})\n",
    "print(balance)\n",
    "\n",
    "#remove\n",
    "balance=dict(filter(lambda x:x[0] not in new_users,balance.items()))\n",
    "print(balance)"
   ]
  },
  {
   "cell_type": "code",
   "execution_count": 58,
   "metadata": {},
   "outputs": [],
   "source": [
    "def add_money(accounts, user, amount):\n",
    "    if user not in accounts:\n",
    "        print(f'user {user} not found, aborting')\n",
    "    elif type(amount) != int and type(amount) != float:\n",
    "        print('non-numeric input, aborting')\n",
    "    elif amount < 0:\n",
    "        print('cannot add negative money, aborting...')\n",
    "    else:\n",
    "        print('transaction successful')\n",
    "        accounts[user] += amount\n",
    "    return accounts"
   ]
  },
  {
   "cell_type": "code",
   "execution_count": 61,
   "metadata": {},
   "outputs": [],
   "source": [
    "def withdraw_money(accounts, user, amount):\n",
    "    if user not in accounts:\n",
    "        print(f'user {user} not found, aborting')\n",
    "    elif type(amount) != int and type(amount) != float:\n",
    "        print('non-numeric input, aborting')\n",
    "    elif amount <0:\n",
    "        print('cannot withdraw negative money, aborting...')\n",
    "    elif amount > accounts[user]:\n",
    "        print('overdrawing not permitted! aborting')\n",
    "    else:\n",
    "        print('transaction successful')\n",
    "        accounts[user] -= amount\n",
    "    return accounts"
   ]
  },
  {
   "cell_type": "code",
   "execution_count": 62,
   "metadata": {},
   "outputs": [
    {
     "name": "stdout",
     "output_type": "stream",
     "text": [
      "transaction successful\n",
      "cannot add negative money, aborting...\n",
      "user anna not found, aborting\n",
      "transaction successful\n",
      "overdrawing not permitted! aborting\n",
      "user felix not found, aborting\n",
      "\n",
      "{'alice': 70, 'bob': 0, 'cecile': 0}\n"
     ]
    }
   ],
   "source": [
    "balance = add_money(balance, 'alice', 50)\n",
    "balance = add_money(balance, 'cecile', -5)\n",
    "balance = add_money(balance, 'anna', 5)\n",
    "balance = withdraw_money(balance, 'alice', 15)\n",
    "balance = withdraw_money(balance, 'bob', 15)\n",
    "balance = withdraw_money(balance, 'felix', 15)\n",
    "print(f'\\n{balance}')"
   ]
  },
  {
   "cell_type": "markdown",
   "metadata": {},
   "source": [
    "Task 02 – Classes"
   ]
  },
  {
   "cell_type": "code",
   "execution_count": 65,
   "metadata": {},
   "outputs": [],
   "source": [
    "class Customer:\n",
    "    \n",
    "    # 1\n",
    "    def __init__(self,name):\n",
    "        self.name=name  # customer's name\n",
    "        self.balance=0   # his/her balance is 0 initially\n",
    "    \n",
    "    # 2 & 3\n",
    "    def deposit(self,amount):\n",
    "        if type(amount) != int and type(amount) != float:\n",
    "            print('non-numeric input, aborting')\n",
    "        elif amount < 0:\n",
    "            print('cannot add negative money, aborting...')\n",
    "        else:\n",
    "            print('transaction successful')\n",
    "            self.balance += amount   # update his/her balance\n",
    "    \n",
    "    # 2 & 3\n",
    "    def withdraw(self,amount):\n",
    "        if type(amount) != int and type(amount) != float:\n",
    "            print('non-numeric input, aborting')\n",
    "        elif amount > self.balance:\n",
    "            print('overdrawing not permitted! aborting')\n",
    "        elif amount < 0:\n",
    "            print('cannot withdraw negative money, aborting...')\n",
    "        else:\n",
    "            print('transaction successful')\n",
    "            self.balance -= amount   # update his/her balance\n",
    "    \n",
    "    def __str__(self):\n",
    "        return self.name+\" \"+str(self.balance)\n",
    "        "
   ]
  },
  {
   "cell_type": "code",
   "execution_count": 99,
   "metadata": {},
   "outputs": [
    {
     "name": "stdout",
     "output_type": "stream",
     "text": [
      "Alice 0\n",
      "transaction successful\n",
      "Alice 100\n",
      "transaction successful\n",
      "Alice 102.5\n",
      "cannot add negative money, aborting...\n",
      "Alice 102.5\n",
      "cannot withdraw negative money, aborting...\n",
      "Alice 102.5\n",
      "transaction successful\n",
      "Alice 49.7\n",
      "overdrawing not permitted! aborting\n",
      "Alice 49.7\n",
      "transaction successful\n",
      "Alice 48.7\n"
     ]
    }
   ],
   "source": [
    "c1=Customer(\"Alice\")\n",
    "print(c1)\n",
    "c1.deposit(100)\n",
    "print(c1)\n",
    "c1.deposit(2.5)\n",
    "print(c1)\n",
    "c1.deposit(-2)\n",
    "print(c1)\n",
    "c1.withdraw(-2)\n",
    "print(c1)\n",
    "c1.withdraw(52.8)\n",
    "print(c1)\n",
    "c1.withdraw(200)\n",
    "print(c1)\n",
    "c1.withdraw(1)\n",
    "print(c1)"
   ]
  },
  {
   "cell_type": "code",
   "execution_count": 128,
   "metadata": {},
   "outputs": [],
   "source": [
    "#4\n",
    "class SavingsCustomer(Customer):\n",
    "    def __init__(self,name):\n",
    "        self.extra=0  # extra balance, initially 0\n",
    "        super().__init__(name)\n",
    "    \n",
    "    def transfer_from_extra(self,amount):\n",
    "        if type(amount) != int and type(amount) != float:\n",
    "            print('non-numeric input, aborting')\n",
    "        elif amount < 0:\n",
    "            print('cannot transfer negative money, aborting...')\n",
    "        elif amount>self.extra:\n",
    "            print('your extra account does not have so much money, aborting...')\n",
    "        else:\n",
    "            print('transaction successful')\n",
    "            self.extra -= amount   #  money out from extra balance \n",
    "            self.balance+=amount   #  money into balance account\n",
    "    \n",
    "    def transfer_to_extra(self,amount):\n",
    "        if type(amount) != int and type(amount) != float:\n",
    "            print('non-numeric input, aborting')\n",
    "        elif amount < 0:\n",
    "            print('cannot transfer negative money, aborting...')\n",
    "        elif amount>self.balance:\n",
    "            print('your balance account does not have so much money, aborting...')\n",
    "        else:\n",
    "            print('transaction successful')\n",
    "            self.extra += amount   #  money into extra balance \n",
    "            self.balance-=amount   #  money out from balance account\n",
    "        \n",
    "    def __str__(self):\n",
    "        return f\"Name: {self.name}    Balance: {self.balance}    Extra Balance: {self.extra}\"\n",
    "    "
   ]
  },
  {
   "cell_type": "code",
   "execution_count": 129,
   "metadata": {},
   "outputs": [
    {
     "name": "stdout",
     "output_type": "stream",
     "text": [
      "Name: Justin Bieber    Balance: 0    Extra Balance: 0\n",
      "transaction successful\n",
      "Name: Justin Bieber    Balance: 100    Extra Balance: 0\n",
      "cannot add negative money, aborting...\n",
      "Name: Justin Bieber    Balance: 100    Extra Balance: 0\n",
      "transaction successful\n",
      "Name: Justin Bieber    Balance: 47.2    Extra Balance: 0\n",
      "transaction successful\n",
      "Name: Justin Bieber    Balance: 46.2    Extra Balance: 0\n"
     ]
    }
   ],
   "source": [
    "# test properties in parent class\n",
    "c2=SavingsCustomer(\"Justin Bieber\")\n",
    "print(c2)\n",
    "c2.deposit(100)\n",
    "print(c2)\n",
    "c2.deposit(-2)\n",
    "print(c2)\n",
    "c2.withdraw(52.8)\n",
    "print(c2)\n",
    "c2.withdraw(1)\n",
    "print(c2)"
   ]
  },
  {
   "cell_type": "code",
   "execution_count": 130,
   "metadata": {},
   "outputs": [
    {
     "name": "stdout",
     "output_type": "stream",
     "text": [
      "your extra account does not have so much money, aborting...\n",
      "Name: Justin Bieber    Balance: 46.2    Extra Balance: 0\n",
      "cannot transfer negative money, aborting...\n",
      "Name: Justin Bieber    Balance: 46.2    Extra Balance: 0\n",
      "transaction successful\n",
      "Name: Justin Bieber    Balance: 36.0    Extra Balance: 10.2\n",
      "cannot transfer negative money, aborting...\n",
      "Name: Justin Bieber    Balance: 36.0    Extra Balance: 10.2\n",
      "your extra account does not have so much money, aborting...\n",
      "Name: Justin Bieber    Balance: 36.0    Extra Balance: 10.2\n",
      "your balance account does not have so much money, aborting...\n",
      "Name: Justin Bieber    Balance: 36.0    Extra Balance: 10.2\n",
      "non-numeric input, aborting\n",
      "Name: Justin Bieber    Balance: 36.0    Extra Balance: 10.2\n"
     ]
    }
   ],
   "source": [
    "# test child class\n",
    "c2.transfer_from_extra(100)\n",
    "print(c2)\n",
    "c2.transfer_to_extra(-1)\n",
    "print(c2)\n",
    "c2.transfer_to_extra(10.2)\n",
    "print(c2)\n",
    "c2.transfer_from_extra(-1.5)\n",
    "print(c2)\n",
    "c2.transfer_from_extra(20)\n",
    "print(c2)\n",
    "c2.transfer_to_extra(50)\n",
    "print(c2)\n",
    "c2.transfer_to_extra(\"x\")\n",
    "print(c2)"
   ]
  },
  {
   "cell_type": "code",
   "execution_count": null,
   "metadata": {},
   "outputs": [],
   "source": []
  }
 ],
 "metadata": {
  "kernelspec": {
   "display_name": "Python 3",
   "language": "python",
   "name": "python3"
  },
  "language_info": {
   "codemirror_mode": {
    "name": "ipython",
    "version": 3
   },
   "file_extension": ".py",
   "mimetype": "text/x-python",
   "name": "python",
   "nbconvert_exporter": "python",
   "pygments_lexer": "ipython3",
   "version": "3.7.3"
  }
 },
 "nbformat": 4,
 "nbformat_minor": 2
}
