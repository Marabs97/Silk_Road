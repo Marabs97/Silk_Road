{
 "cells": [
  {
   "cell_type": "code",
   "execution_count": 1,
   "metadata": {},
   "outputs": [
    {
     "name": "stdout",
     "output_type": "stream",
     "text": [
      "[0, 1, 2, 3, 4, 5, 6, 7, 8, 9, 10, 11, 12, 13, 14, 15, 16, 17, 18, 19]\n",
      "[0, 2, 4, 6, 8, 10, 12, 14, 16, 18]\n"
     ]
    }
   ],
   "source": [
    "# Task 01 – Lambda functions\n",
    "\n",
    "alist=list(range(20))\n",
    "blist=list(filter(lambda x:x%2==0,alist))\n",
    "\n",
    "print(alist)\n",
    "print(blist)\n"
   ]
  },
  {
   "cell_type": "code",
   "execution_count": 2,
   "metadata": {},
   "outputs": [
    {
     "name": "stdout",
     "output_type": "stream",
     "text": [
      "['Justin', 'Bieber', 'is', 'a', 'man', 'He', 'is', 'an', 'singer', 'and', 'an', 'artist', 'His', 'fame', 'has', 'spread', 'all', 'over', 'the', 'world', 'in', 'even', 'North', 'Korea', 'know', 'him']\n"
     ]
    }
   ],
   "source": [
    "# Task 02 – List comprehensions\n",
    "\n",
    "def remove_long_words(sentence,n):\n",
    "    words=sentence.split()\n",
    "    shortwords=[x for x in words if len(x)<=n]\n",
    "    print(shortwords)\n",
    "\n",
    "s=\"Justin Bieber is a man He is an extraordinary singer and an excellent artist His fame has spread all over the world Children in even North Korea know him\"\n",
    "n=6\n",
    "remove_long_words(s,n)"
   ]
  },
  {
   "cell_type": "code",
   "execution_count": 3,
   "metadata": {},
   "outputs": [],
   "source": [
    "# Task 03 – Unity Test\n",
    "\n",
    "import unittest\n",
    "import math\n",
    "def decimal_to_binary_correct(n):\n",
    "    # function to convert decimal integers to binary\n",
    "    x = []\n",
    "    if n==0: return \"0\"\n",
    "    if n==-1:return \"1111111111111111\"\n",
    "    while n > 0:\n",
    "        x.append(n % 2)\n",
    "        n = math.floor(n/2)\n",
    "    x.reverse()\n",
    "    x=[str(i) for i in x]\n",
    "    return \"\".join(x)\n",
    "\n",
    "suite =unittest.TestCase()\n",
    "suite.assertEqual(decimal_to_binary_correct(-1),\"1111111111111111\")\n",
    "suite.assertEqual(decimal_to_binary_correct(0),\"0\")\n",
    "suite.assertEqual(decimal_to_binary_correct(1),\"1\")\n",
    "suite.assertEqual(decimal_to_binary_correct(2),\"10\")\n",
    "suite.assertEqual(decimal_to_binary_correct(3),\"11\")"
   ]
  },
  {
   "cell_type": "code",
   "execution_count": 4,
   "metadata": {},
   "outputs": [
    {
     "name": "stdout",
     "output_type": "stream",
     "text": [
      "<html>\r\n",
      "<head>\r\n",
      "<META NAME=\"robots\" CONTENT=\"noindex,nofollow\">\r\n",
      "<script src=\"/_Incapsula_Resource?SWJIYLWA=5074a744e2e3d891814e9a2dace20bd4,719d34d31c8e3a6e6fffd425f7e032f3\">\r\n",
      "</script>\r\n",
      "<body>\r\n",
      "</bo\n"
     ]
    }
   ],
   "source": [
    "# Task 04 – HTTP Request\n",
    "\n",
    "import urllib\n",
    "\n",
    "def open_url(url):\n",
    "    try:\n",
    "        response=urllib.request.urlopen(url)\n",
    "        html = response.read().decode('utf-8')  # decode the data stream\n",
    "        print(html[:200])  # print the first 200 characters\n",
    "    except:\n",
    "        print(\"Error in reading the webpage.\")\n",
    "    \n",
    "    \n",
    "url=\"https://www.justinbiebermusic.com/\"\n",
    "open_url(url)\n",
    "    "
   ]
  },
  {
   "cell_type": "code",
   "execution_count": 5,
   "metadata": {},
   "outputs": [
    {
     "name": "stdout",
     "output_type": "stream",
     "text": [
      "<html>\r\n",
      "<head>\r\n",
      "<META NAME=\"robots\" CONTENT=\"noindex,nofollow\">\r\n",
      "<script src=\"/_Incapsula_Resource?SWJIYLWA=5074a744e2e3d891814e9a2dace20bd4,719d34d31c8e3a6e6fffd425f7e032f3\">\r\n",
      "</script>\r\n",
      "<body>\r\n",
      "</bo\n"
     ]
    }
   ],
   "source": [
    "# Task 05 – Logging\n",
    "\n",
    "# 参考资料：https://zhuanlan.zhihu.com/p/166671955\n",
    "import urllib\n",
    "import logging\n",
    "\n",
    "def init_log(file_name, file_mode, level, format, date_format):\n",
    "    logging.basicConfig(filename=file_name,\n",
    "                        filemode=file_mode,\n",
    "                        level=level,\n",
    "                        format=format,\n",
    "                        datefmt=date_format)\n",
    "\n",
    "# extend the function in Task 04\n",
    "def open_url(url):\n",
    "    try:\n",
    "        response=urllib.request.urlopen(url)\n",
    "        html = response.read().decode('utf-8')  # decode the data stream\n",
    "        print(html[:200])  # print the first 200 characters\n",
    "    except:\n",
    "        logging.error(f\"Some error(s) occurred when accessing {url}\")  # redefine the error message\n",
    "\n",
    "\n",
    "# initiate the log file\n",
    "init_log(\"task05.log\",\"a\",logging.DEBUG,'%(asctime)s %(filename)s[line:%(lineno)d] %(levelname)s %(message)s',\"%Y-%m-%d %H:%M:%S\")\n",
    "\n",
    "# a successful connection\n",
    "url=\"https://www.justinbiebermusic.com/\"\n",
    "open_url(url)    \n",
    "\n",
    "# an unsuccessful connection\n",
    "url2=\"https://www.justinbiebermusiy.com/\"\n",
    "open_url(url2) \n",
    "\n",
    "# an unsuccessful connection\n",
    "url3=\"https://www.justinbiebermusxy.com/\"\n",
    "open_url(url3)\n",
    "\n",
    "# close the log file\n",
    "logging.shutdown()\n",
    "\n",
    "# A task05.log is produced in the folder. It generates 2 more log messages every time we run this cell."
   ]
  },
  {
   "cell_type": "code",
   "execution_count": 6,
   "metadata": {},
   "outputs": [
    {
     "name": "stdout",
     "output_type": "stream",
     "text": [
      "Error: cannot access the link https://www.justinbiebermusic.com.txt\n"
     ]
    }
   ],
   "source": [
    "# Task 06 – Download File\n",
    "\n",
    "import urllib\n",
    "import logging\n",
    "\n",
    "# defined in Task 05\n",
    "def init_log(file_name, file_mode, level, format, date_format):\n",
    "    logging.basicConfig(filename=file_name,\n",
    "                        filemode=file_mode,\n",
    "                        level=level,\n",
    "                        format=format,\n",
    "                        datefmt=date_format)\n",
    "\n",
    "def download_file(url, path):\n",
    "    # check whether the urls points to a .txt file by verifying its suffix\n",
    "    if url.endswith(\".txt\"):\n",
    "        try:\n",
    "            # open the link\n",
    "            headers = {'User-Agent': 'Mozilla/5.0 (Windows NT 6.1; Win64; x64)'} \n",
    "            req = urllib.request.Request(url=url,headers=headers)\n",
    "            f = urllib.request.urlopen(req)\n",
    "            \n",
    "            # get the name of txt file:   https://www.google.com/s/123.txt ---> 123.txt\n",
    "            url=url[::-1] # reverse the url:  txt.321/s/moc.elgoog.www//:sttph\n",
    "            x=url.index(\"/\")  # the index of the first \"/\"\n",
    "            filename=url[:x]  # cut the string and get the left slice:  txt.321\n",
    "            filename=filename[::-1]  # reverse :123.txt\n",
    "            \n",
    "            # read data and write it into a file\n",
    "            data = f.read()\n",
    "            with open(path+filename, 'wb') as f2:\n",
    "                f2.write(data)\n",
    "                \n",
    "        # exception: invalid link\n",
    "        except urllib.error.URLError:\n",
    "            print(f\"Error: cannot access the link {url}\")\n",
    "        # exception: target path invalid\n",
    "        except FileNotFoundError:\n",
    "            print(\"Error: the given path does not exist\")\n",
    "            \n",
    "    # does not point to a txt file\n",
    "    else:\n",
    "        logging.error(\"No text file found at given URL, download aborted!\")  # redefine the error message\n",
    "\n",
    "        \n",
    "init_log(\"task05.log\",\"a\",logging.DEBUG,'%(asctime)s %(filename)s[line:%(lineno)d] %(levelname)s %(message)s',\"%Y-%m-%d %H:%M:%S\")\n",
    "\n",
    "path=\"./\"  # the current folder\n",
    "\n",
    "# create an error message in the log file (not a .txt link)\n",
    "url1=\"https://www.justinbiebermusic.com/\"\n",
    "download_file(url1, path)\n",
    "\n",
    "# print an error message (invalid link)\n",
    "url2=\"https://www.justinbiebermusic.com.txt\"\n",
    "download_file(url2, path)\n",
    "\n",
    "# a successful download\n",
    "url3=\"https://filesamples.com/samples/document/txt/sample3.txt\"\n",
    "download_file(url3, path)\n",
    "\n",
    "logging.shutdown()"
   ]
  },
  {
   "cell_type": "code",
   "execution_count": null,
   "metadata": {},
   "outputs": [],
   "source": []
  }
 ],
 "metadata": {
  "kernelspec": {
   "display_name": "Python 3",
   "language": "python",
   "name": "python3"
  },
  "language_info": {
   "codemirror_mode": {
    "name": "ipython",
    "version": 3
   },
   "file_extension": ".py",
   "mimetype": "text/x-python",
   "name": "python",
   "nbconvert_exporter": "python",
   "pygments_lexer": "ipython3",
   "version": "3.8.8"
  }
 },
 "nbformat": 4,
 "nbformat_minor": 2
}
